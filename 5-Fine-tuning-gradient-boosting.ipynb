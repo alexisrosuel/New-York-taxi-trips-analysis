{
 "cells": [
  {
   "cell_type": "markdown",
   "metadata": {},
   "source": [
    "# Fine tuning : gradient descent boosting\n",
    "\n",
    "Pour finir, nous allons nous concentrer sur la méthode **Gradient Boosting** de scikit-learn. On a vu que, 'de base' (ie. sans aucun ajustement des hyperparamètres), cette méthode fournit un score de 0.63 environ. \n",
    "\n",
    "Dans ce notebook, nous allons mettre en place plusieurs méthodes afin d'augmenter ce score.\n",
    "\n",
    "\n",
    "<img src=\"http://www.psdgraphics.com/wp-content/uploads/2009/12/warning-sign.jpg\" alt=\"NYC_map\" align=\"left\" style=\"width:30px;height:20px;\">\n",
    "ATTENTION : Dans ce notebook, nous vous conseillons de ne pas lancer les cellules, car elle mettent beaucoup de temps à se terminer (en particulier la partie random_search)"
   ]
  },
  {
   "cell_type": "markdown",
   "metadata": {},
   "source": [
    "## Import et préparation du dataset\n",
    "\n",
    "On effectue la même importation / prétraitement que dans le notebook précédent"
   ]
  },
  {
   "cell_type": "code",
   "execution_count": 1,
   "metadata": {
    "collapsed": true
   },
   "outputs": [],
   "source": [
    "%matplotlib inline"
   ]
  },
  {
   "cell_type": "code",
   "execution_count": 2,
   "metadata": {
    "collapsed": true
   },
   "outputs": [],
   "source": [
    "import pandas\n",
    "import matplotlib.pyplot as plt\n",
    "import importation\n",
    "from sklearn import metrics\n",
    "from sklearn import model_selection\n",
    "from sklearn import ensemble\n",
    "import numpy"
   ]
  },
  {
   "cell_type": "code",
   "execution_count": 3,
   "metadata": {
    "collapsed": false
   },
   "outputs": [],
   "source": [
    "trips = importation.chargement_donnees()\n",
    "trips = importation.clean(trips)\n",
    "\n",
    "trips['vitesse_moyenne'] = trips['trip_distance']/trips['trip_time_in_secs']\n",
    "trips = trips.drop(['trip_distance', 'trip_time_in_secs', 'medallion', 'hack_license', 'vendor_id', \n",
    "            'pickup_datetime', 'dropoff_datetime', 'total_amount'], axis=1)\n",
    "trips = trips[(trips['payment_type'] == 'CRD')]\n",
    "trips = trips.drop(['payment_type'], axis=1)\n",
    "\n",
    "trips = pandas.get_dummies(data=trips, columns=['nuit_jour', 'jour_semaine'])  \n",
    "\n",
    "X = trips.drop(['tip_amount','nuit_jour_jour', 'jour_semaine_Monday'], axis=1) # on supprime juste les deux dummy variable 'trap'\n",
    "y = trips['tip_amount']"
   ]
  },
  {
   "cell_type": "markdown",
   "metadata": {},
   "source": [
    "On sépare notre jeu de données en 3 parties :\n",
    "- 60% en données d'apprentissage\n",
    "- 20% en données de cross-validation pour ajuster les hyperparamètres\n",
    "- 20% en données de test pour mesurer la performance du modèle final"
   ]
  },
  {
   "cell_type": "code",
   "execution_count": 4,
   "metadata": {
    "collapsed": true
   },
   "outputs": [],
   "source": [
    "X_train, X_test, y_train, y_test = model_selection.train_test_split(X, y, test_size=0.20, random_state=42)"
   ]
  },
  {
   "cell_type": "code",
   "execution_count": 5,
   "metadata": {
    "collapsed": false,
    "scrolled": false
   },
   "outputs": [
    {
     "name": "stdout",
     "output_type": "stream",
     "text": [
      "(369876, 12)\n",
      "(92469, 12)\n"
     ]
    }
   ],
   "source": [
    "print(X_train.shape)\n",
    "print(X_test.shape)"
   ]
  },
  {
   "cell_type": "markdown",
   "metadata": {},
   "source": [
    "## Random search"
   ]
  },
  {
   "cell_type": "markdown",
   "metadata": {},
   "source": [
    "Voici les hyperparamètres de la méthode GradientBoostingRegressor() :\n",
    "- max_depth\n",
    "- n_estimators \n",
    "- min_samples_split\n",
    "- min_samples_leaf\n",
    "\n",
    "La documentation en fournit d'autres mais on ne s'y intéressera pas ici car cela rallongerait considérablement la recherche de la meilleure combinaison d'hyperparamètres.\n",
    "\n",
    "La méthode RandomSearch va nous permettre de tester plusieurs combinaisons des hyperparamètres."
   ]
  },
  {
   "cell_type": "code",
   "execution_count": 17,
   "metadata": {
    "collapsed": false
   },
   "outputs": [],
   "source": [
    "gboost = ensemble.GradientBoostingRegressor()"
   ]
  },
  {
   "cell_type": "code",
   "execution_count": 18,
   "metadata": {
    "collapsed": false
   },
   "outputs": [
    {
     "data": {
      "text/plain": [
       "RandomizedSearchCV(cv=None, error_score='raise',\n",
       "          estimator=GradientBoostingRegressor(alpha=0.9, criterion='friedman_mse', init=None,\n",
       "             learning_rate=0.1, loss='ls', max_depth=3, max_features=None,\n",
       "             max_leaf_nodes=None, min_impurity_split=1e-07,\n",
       "             min_samples_leaf=1, min_samples_split=2,\n",
       "             min_weight_fraction_leaf=0.0, n_estimators=100,\n",
       "             presort='auto', random_state=None, subsample=1.0, verbose=0,\n",
       "             warm_start=False),\n",
       "          fit_params={}, iid=True, n_iter=20, n_jobs=-1,\n",
       "          param_distributions={'max_depth': <scipy.stats._distn_infrastructure.rv_frozen object at 0x00000255AE24D588>, 'min_samples_split': <scipy.stats._distn_infrastructure.rv_frozen object at 0x000002559E4A5390>, 'n_estimators': <scipy.stats._distn_infrastructure.rv_frozen object at 0x000002559E4A5198>, 'min_samples_leaf': <scipy.stats._distn_infrastructure.rv_frozen object at 0x000002559E4A5518>},\n",
       "          pre_dispatch='2*n_jobs', random_state=None, refit=True,\n",
       "          return_train_score=True, scoring=None, verbose=0)"
      ]
     },
     "execution_count": 18,
     "metadata": {},
     "output_type": "execute_result"
    }
   ],
   "source": [
    "from scipy.stats import randint as sp_randint\n",
    "\n",
    "# specify parameters and distributions to sample from\n",
    "param_dist = {\"max_depth\": sp_randint(1, 7),\n",
    "              \"n_estimators\": sp_randint(1, 300),\n",
    "              \"min_samples_split\": sp_randint(2, 11),\n",
    "              \"min_samples_leaf\": sp_randint(1, 11)\n",
    "              }\n",
    "\n",
    "# run randomized search\n",
    "n_iter_search = 20\n",
    "random_search = model_selection.RandomizedSearchCV(estimator=gboost, param_distributions=param_dist,\n",
    "                                   n_iter=n_iter_search, n_jobs=-1)\n",
    "random_search.fit(X_train, y_train)"
   ]
  },
  {
   "cell_type": "markdown",
   "metadata": {},
   "source": [
    "On affiche le résultat sous forme de DataFrame pandas :"
   ]
  },
  {
   "cell_type": "code",
   "execution_count": 19,
   "metadata": {
    "collapsed": false,
    "scrolled": false
   },
   "outputs": [
    {
     "data": {
      "text/html": [
       "<div>\n",
       "<table border=\"1\" class=\"dataframe\">\n",
       "  <thead>\n",
       "    <tr style=\"text-align: right;\">\n",
       "      <th></th>\n",
       "      <th>mean_fit_time</th>\n",
       "      <th>mean_score_time</th>\n",
       "      <th>mean_test_score</th>\n",
       "      <th>mean_train_score</th>\n",
       "      <th>param_max_depth</th>\n",
       "      <th>param_min_samples_leaf</th>\n",
       "      <th>param_min_samples_split</th>\n",
       "      <th>param_n_estimators</th>\n",
       "      <th>params</th>\n",
       "      <th>rank_test_score</th>\n",
       "      <th>split0_test_score</th>\n",
       "      <th>split0_train_score</th>\n",
       "      <th>split1_test_score</th>\n",
       "      <th>split1_train_score</th>\n",
       "      <th>split2_test_score</th>\n",
       "      <th>split2_train_score</th>\n",
       "      <th>std_fit_time</th>\n",
       "      <th>std_score_time</th>\n",
       "      <th>std_test_score</th>\n",
       "      <th>std_train_score</th>\n",
       "    </tr>\n",
       "  </thead>\n",
       "  <tbody>\n",
       "    <tr>\n",
       "      <th>0</th>\n",
       "      <td>72.347119</td>\n",
       "      <td>0.637948</td>\n",
       "      <td>0.626696</td>\n",
       "      <td>0.633221</td>\n",
       "      <td>2</td>\n",
       "      <td>2</td>\n",
       "      <td>5</td>\n",
       "      <td>276</td>\n",
       "      <td>{'min_samples_split': 5, 'max_depth': 2, 'n_es...</td>\n",
       "      <td>6</td>\n",
       "      <td>0.631418</td>\n",
       "      <td>0.630969</td>\n",
       "      <td>0.618928</td>\n",
       "      <td>0.637070</td>\n",
       "      <td>0.629743</td>\n",
       "      <td>0.631624</td>\n",
       "      <td>0.949521</td>\n",
       "      <td>0.028026</td>\n",
       "      <td>0.005535</td>\n",
       "      <td>0.002735</td>\n",
       "    </tr>\n",
       "    <tr>\n",
       "      <th>1</th>\n",
       "      <td>211.985382</td>\n",
       "      <td>0.917412</td>\n",
       "      <td>0.623513</td>\n",
       "      <td>0.661012</td>\n",
       "      <td>5</td>\n",
       "      <td>2</td>\n",
       "      <td>8</td>\n",
       "      <td>262</td>\n",
       "      <td>{'max_depth': 5, 'min_samples_split': 8, 'n_es...</td>\n",
       "      <td>14</td>\n",
       "      <td>0.629839</td>\n",
       "      <td>0.659840</td>\n",
       "      <td>0.614436</td>\n",
       "      <td>0.665090</td>\n",
       "      <td>0.626264</td>\n",
       "      <td>0.658107</td>\n",
       "      <td>1.688889</td>\n",
       "      <td>0.027988</td>\n",
       "      <td>0.006582</td>\n",
       "      <td>0.002969</td>\n",
       "    </tr>\n",
       "    <tr>\n",
       "      <th>2</th>\n",
       "      <td>35.916069</td>\n",
       "      <td>0.229154</td>\n",
       "      <td>0.627767</td>\n",
       "      <td>0.632907</td>\n",
       "      <td>4</td>\n",
       "      <td>10</td>\n",
       "      <td>9</td>\n",
       "      <td>53</td>\n",
       "      <td>{'max_depth': 4, 'min_samples_split': 9, 'n_es...</td>\n",
       "      <td>1</td>\n",
       "      <td>0.632749</td>\n",
       "      <td>0.630812</td>\n",
       "      <td>0.619991</td>\n",
       "      <td>0.636629</td>\n",
       "      <td>0.630561</td>\n",
       "      <td>0.631281</td>\n",
       "      <td>0.392044</td>\n",
       "      <td>0.002161</td>\n",
       "      <td>0.005570</td>\n",
       "      <td>0.002639</td>\n",
       "    </tr>\n",
       "    <tr>\n",
       "      <th>3</th>\n",
       "      <td>141.259748</td>\n",
       "      <td>0.719149</td>\n",
       "      <td>0.626761</td>\n",
       "      <td>0.649705</td>\n",
       "      <td>5</td>\n",
       "      <td>6</td>\n",
       "      <td>5</td>\n",
       "      <td>167</td>\n",
       "      <td>{'max_depth': 5, 'min_samples_split': 5, 'n_es...</td>\n",
       "      <td>4</td>\n",
       "      <td>0.631821</td>\n",
       "      <td>0.648072</td>\n",
       "      <td>0.618505</td>\n",
       "      <td>0.653429</td>\n",
       "      <td>0.629958</td>\n",
       "      <td>0.647614</td>\n",
       "      <td>1.028932</td>\n",
       "      <td>0.001250</td>\n",
       "      <td>0.005887</td>\n",
       "      <td>0.002640</td>\n",
       "    </tr>\n",
       "    <tr>\n",
       "      <th>4</th>\n",
       "      <td>29.654686</td>\n",
       "      <td>0.454972</td>\n",
       "      <td>0.625570</td>\n",
       "      <td>0.626814</td>\n",
       "      <td>1</td>\n",
       "      <td>10</td>\n",
       "      <td>3</td>\n",
       "      <td>216</td>\n",
       "      <td>{'max_depth': 1, 'min_samples_split': 3, 'n_es...</td>\n",
       "      <td>8</td>\n",
       "      <td>0.630718</td>\n",
       "      <td>0.624397</td>\n",
       "      <td>0.617329</td>\n",
       "      <td>0.631041</td>\n",
       "      <td>0.628664</td>\n",
       "      <td>0.625005</td>\n",
       "      <td>0.373402</td>\n",
       "      <td>0.039432</td>\n",
       "      <td>0.005888</td>\n",
       "      <td>0.002999</td>\n",
       "    </tr>\n",
       "    <tr>\n",
       "      <th>5</th>\n",
       "      <td>30.068752</td>\n",
       "      <td>0.296533</td>\n",
       "      <td>0.626731</td>\n",
       "      <td>0.629206</td>\n",
       "      <td>2</td>\n",
       "      <td>7</td>\n",
       "      <td>3</td>\n",
       "      <td>106</td>\n",
       "      <td>{'max_depth': 2, 'min_samples_split': 3, 'n_es...</td>\n",
       "      <td>5</td>\n",
       "      <td>0.631578</td>\n",
       "      <td>0.626937</td>\n",
       "      <td>0.618637</td>\n",
       "      <td>0.633238</td>\n",
       "      <td>0.629976</td>\n",
       "      <td>0.627442</td>\n",
       "      <td>0.084680</td>\n",
       "      <td>0.014850</td>\n",
       "      <td>0.005760</td>\n",
       "      <td>0.002859</td>\n",
       "    </tr>\n",
       "    <tr>\n",
       "      <th>6</th>\n",
       "      <td>27.129471</td>\n",
       "      <td>0.138093</td>\n",
       "      <td>0.599076</td>\n",
       "      <td>0.608005</td>\n",
       "      <td>6</td>\n",
       "      <td>1</td>\n",
       "      <td>10</td>\n",
       "      <td>15</td>\n",
       "      <td>{'max_depth': 6, 'min_samples_split': 10, 'n_e...</td>\n",
       "      <td>18</td>\n",
       "      <td>0.606737</td>\n",
       "      <td>0.605681</td>\n",
       "      <td>0.590243</td>\n",
       "      <td>0.611786</td>\n",
       "      <td>0.600246</td>\n",
       "      <td>0.606547</td>\n",
       "      <td>0.067298</td>\n",
       "      <td>0.006485</td>\n",
       "      <td>0.006785</td>\n",
       "      <td>0.002697</td>\n",
       "    </tr>\n",
       "    <tr>\n",
       "      <th>7</th>\n",
       "      <td>270.825587</td>\n",
       "      <td>1.086728</td>\n",
       "      <td>0.621767</td>\n",
       "      <td>0.670432</td>\n",
       "      <td>6</td>\n",
       "      <td>3</td>\n",
       "      <td>6</td>\n",
       "      <td>245</td>\n",
       "      <td>{'max_depth': 6, 'min_samples_split': 6, 'n_es...</td>\n",
       "      <td>17</td>\n",
       "      <td>0.627504</td>\n",
       "      <td>0.669192</td>\n",
       "      <td>0.612444</td>\n",
       "      <td>0.674759</td>\n",
       "      <td>0.625355</td>\n",
       "      <td>0.667345</td>\n",
       "      <td>3.781425</td>\n",
       "      <td>0.046600</td>\n",
       "      <td>0.006651</td>\n",
       "      <td>0.003151</td>\n",
       "    </tr>\n",
       "    <tr>\n",
       "      <th>8</th>\n",
       "      <td>3.254176</td>\n",
       "      <td>0.074386</td>\n",
       "      <td>0.504204</td>\n",
       "      <td>0.504475</td>\n",
       "      <td>2</td>\n",
       "      <td>2</td>\n",
       "      <td>6</td>\n",
       "      <td>9</td>\n",
       "      <td>{'min_samples_split': 6, 'max_depth': 2, 'n_es...</td>\n",
       "      <td>19</td>\n",
       "      <td>0.510391</td>\n",
       "      <td>0.502205</td>\n",
       "      <td>0.496552</td>\n",
       "      <td>0.507829</td>\n",
       "      <td>0.505670</td>\n",
       "      <td>0.503392</td>\n",
       "      <td>0.155193</td>\n",
       "      <td>0.004500</td>\n",
       "      <td>0.005744</td>\n",
       "      <td>0.002420</td>\n",
       "    </tr>\n",
       "    <tr>\n",
       "      <th>9</th>\n",
       "      <td>143.635395</td>\n",
       "      <td>0.811307</td>\n",
       "      <td>0.626884</td>\n",
       "      <td>0.646013</td>\n",
       "      <td>4</td>\n",
       "      <td>7</td>\n",
       "      <td>5</td>\n",
       "      <td>251</td>\n",
       "      <td>{'min_samples_split': 5, 'max_depth': 4, 'n_es...</td>\n",
       "      <td>3</td>\n",
       "      <td>0.631769</td>\n",
       "      <td>0.643873</td>\n",
       "      <td>0.619089</td>\n",
       "      <td>0.649835</td>\n",
       "      <td>0.629793</td>\n",
       "      <td>0.644331</td>\n",
       "      <td>3.761053</td>\n",
       "      <td>0.042858</td>\n",
       "      <td>0.005570</td>\n",
       "      <td>0.002709</td>\n",
       "    </tr>\n",
       "    <tr>\n",
       "      <th>10</th>\n",
       "      <td>11.616384</td>\n",
       "      <td>0.222764</td>\n",
       "      <td>0.622299</td>\n",
       "      <td>0.623217</td>\n",
       "      <td>1</td>\n",
       "      <td>2</td>\n",
       "      <td>10</td>\n",
       "      <td>80</td>\n",
       "      <td>{'max_depth': 1, 'min_samples_split': 10, 'n_e...</td>\n",
       "      <td>16</td>\n",
       "      <td>0.627984</td>\n",
       "      <td>0.620587</td>\n",
       "      <td>0.613983</td>\n",
       "      <td>0.627550</td>\n",
       "      <td>0.624929</td>\n",
       "      <td>0.621515</td>\n",
       "      <td>0.300445</td>\n",
       "      <td>0.008352</td>\n",
       "      <td>0.006011</td>\n",
       "      <td>0.003087</td>\n",
       "    </tr>\n",
       "    <tr>\n",
       "      <th>11</th>\n",
       "      <td>236.982276</td>\n",
       "      <td>0.974010</td>\n",
       "      <td>0.624685</td>\n",
       "      <td>0.657099</td>\n",
       "      <td>6</td>\n",
       "      <td>10</td>\n",
       "      <td>7</td>\n",
       "      <td>252</td>\n",
       "      <td>{'max_depth': 6, 'min_samples_split': 7, 'n_es...</td>\n",
       "      <td>10</td>\n",
       "      <td>0.629968</td>\n",
       "      <td>0.655457</td>\n",
       "      <td>0.616329</td>\n",
       "      <td>0.663269</td>\n",
       "      <td>0.627759</td>\n",
       "      <td>0.652571</td>\n",
       "      <td>5.804167</td>\n",
       "      <td>0.007366</td>\n",
       "      <td>0.005977</td>\n",
       "      <td>0.004519</td>\n",
       "    </tr>\n",
       "    <tr>\n",
       "      <th>12</th>\n",
       "      <td>16.229874</td>\n",
       "      <td>0.266617</td>\n",
       "      <td>0.624501</td>\n",
       "      <td>0.625565</td>\n",
       "      <td>1</td>\n",
       "      <td>10</td>\n",
       "      <td>9</td>\n",
       "      <td>124</td>\n",
       "      <td>{'max_depth': 1, 'min_samples_split': 9, 'n_es...</td>\n",
       "      <td>11</td>\n",
       "      <td>0.629935</td>\n",
       "      <td>0.623035</td>\n",
       "      <td>0.616172</td>\n",
       "      <td>0.629900</td>\n",
       "      <td>0.627397</td>\n",
       "      <td>0.623761</td>\n",
       "      <td>0.241487</td>\n",
       "      <td>0.013969</td>\n",
       "      <td>0.005980</td>\n",
       "      <td>0.003079</td>\n",
       "    </tr>\n",
       "    <tr>\n",
       "      <th>13</th>\n",
       "      <td>137.020819</td>\n",
       "      <td>0.727024</td>\n",
       "      <td>0.626493</td>\n",
       "      <td>0.647441</td>\n",
       "      <td>5</td>\n",
       "      <td>9</td>\n",
       "      <td>10</td>\n",
       "      <td>183</td>\n",
       "      <td>{'max_depth': 5, 'min_samples_split': 10, 'n_e...</td>\n",
       "      <td>7</td>\n",
       "      <td>0.631696</td>\n",
       "      <td>0.644595</td>\n",
       "      <td>0.618966</td>\n",
       "      <td>0.652424</td>\n",
       "      <td>0.628818</td>\n",
       "      <td>0.645305</td>\n",
       "      <td>2.436735</td>\n",
       "      <td>0.072305</td>\n",
       "      <td>0.005451</td>\n",
       "      <td>0.003535</td>\n",
       "    </tr>\n",
       "    <tr>\n",
       "      <th>14</th>\n",
       "      <td>139.264088</td>\n",
       "      <td>0.549250</td>\n",
       "      <td>0.624140</td>\n",
       "      <td>0.658437</td>\n",
       "      <td>6</td>\n",
       "      <td>2</td>\n",
       "      <td>5</td>\n",
       "      <td>119</td>\n",
       "      <td>{'min_samples_split': 5, 'max_depth': 6, 'n_es...</td>\n",
       "      <td>13</td>\n",
       "      <td>0.630336</td>\n",
       "      <td>0.656630</td>\n",
       "      <td>0.615851</td>\n",
       "      <td>0.661603</td>\n",
       "      <td>0.626234</td>\n",
       "      <td>0.657079</td>\n",
       "      <td>1.898061</td>\n",
       "      <td>0.010025</td>\n",
       "      <td>0.006096</td>\n",
       "      <td>0.002246</td>\n",
       "    </tr>\n",
       "    <tr>\n",
       "      <th>15</th>\n",
       "      <td>161.978878</td>\n",
       "      <td>0.615667</td>\n",
       "      <td>0.624154</td>\n",
       "      <td>0.660686</td>\n",
       "      <td>6</td>\n",
       "      <td>3</td>\n",
       "      <td>4</td>\n",
       "      <td>150</td>\n",
       "      <td>{'max_depth': 6, 'min_samples_split': 4, 'n_es...</td>\n",
       "      <td>12</td>\n",
       "      <td>0.629500</td>\n",
       "      <td>0.659032</td>\n",
       "      <td>0.615702</td>\n",
       "      <td>0.664908</td>\n",
       "      <td>0.627259</td>\n",
       "      <td>0.658117</td>\n",
       "      <td>3.586615</td>\n",
       "      <td>0.033479</td>\n",
       "      <td>0.006046</td>\n",
       "      <td>0.003009</td>\n",
       "    </tr>\n",
       "    <tr>\n",
       "      <th>16</th>\n",
       "      <td>105.213177</td>\n",
       "      <td>0.663443</td>\n",
       "      <td>0.627002</td>\n",
       "      <td>0.642230</td>\n",
       "      <td>4</td>\n",
       "      <td>10</td>\n",
       "      <td>10</td>\n",
       "      <td>204</td>\n",
       "      <td>{'max_depth': 4, 'min_samples_split': 10, 'n_e...</td>\n",
       "      <td>2</td>\n",
       "      <td>0.631959</td>\n",
       "      <td>0.639484</td>\n",
       "      <td>0.619479</td>\n",
       "      <td>0.646915</td>\n",
       "      <td>0.629567</td>\n",
       "      <td>0.640290</td>\n",
       "      <td>1.606862</td>\n",
       "      <td>0.021618</td>\n",
       "      <td>0.005408</td>\n",
       "      <td>0.003329</td>\n",
       "    </tr>\n",
       "    <tr>\n",
       "      <th>17</th>\n",
       "      <td>135.313021</td>\n",
       "      <td>0.625034</td>\n",
       "      <td>0.625054</td>\n",
       "      <td>0.655306</td>\n",
       "      <td>5</td>\n",
       "      <td>4</td>\n",
       "      <td>10</td>\n",
       "      <td>222</td>\n",
       "      <td>{'max_depth': 5, 'min_samples_split': 10, 'n_e...</td>\n",
       "      <td>9</td>\n",
       "      <td>0.630491</td>\n",
       "      <td>0.653524</td>\n",
       "      <td>0.616401</td>\n",
       "      <td>0.659561</td>\n",
       "      <td>0.628270</td>\n",
       "      <td>0.652835</td>\n",
       "      <td>12.953542</td>\n",
       "      <td>0.022098</td>\n",
       "      <td>0.006185</td>\n",
       "      <td>0.003021</td>\n",
       "    </tr>\n",
       "    <tr>\n",
       "      <th>18</th>\n",
       "      <td>4.581114</td>\n",
       "      <td>0.078127</td>\n",
       "      <td>0.445391</td>\n",
       "      <td>0.446485</td>\n",
       "      <td>4</td>\n",
       "      <td>1</td>\n",
       "      <td>4</td>\n",
       "      <td>6</td>\n",
       "      <td>{'min_samples_split': 4, 'max_depth': 4, 'n_es...</td>\n",
       "      <td>20</td>\n",
       "      <td>0.450982</td>\n",
       "      <td>0.444664</td>\n",
       "      <td>0.439011</td>\n",
       "      <td>0.449554</td>\n",
       "      <td>0.446181</td>\n",
       "      <td>0.445237</td>\n",
       "      <td>0.024271</td>\n",
       "      <td>0.012759</td>\n",
       "      <td>0.004919</td>\n",
       "      <td>0.002183</td>\n",
       "    </tr>\n",
       "    <tr>\n",
       "      <th>19</th>\n",
       "      <td>10.668814</td>\n",
       "      <td>0.176374</td>\n",
       "      <td>0.622653</td>\n",
       "      <td>0.623563</td>\n",
       "      <td>1</td>\n",
       "      <td>2</td>\n",
       "      <td>6</td>\n",
       "      <td>84</td>\n",
       "      <td>{'min_samples_split': 6, 'max_depth': 1, 'n_es...</td>\n",
       "      <td>15</td>\n",
       "      <td>0.628267</td>\n",
       "      <td>0.620949</td>\n",
       "      <td>0.614336</td>\n",
       "      <td>0.627903</td>\n",
       "      <td>0.625357</td>\n",
       "      <td>0.621837</td>\n",
       "      <td>0.074556</td>\n",
       "      <td>0.015747</td>\n",
       "      <td>0.006000</td>\n",
       "      <td>0.003090</td>\n",
       "    </tr>\n",
       "  </tbody>\n",
       "</table>\n",
       "</div>"
      ],
      "text/plain": [
       "    mean_fit_time  mean_score_time  mean_test_score  mean_train_score  \\\n",
       "0       72.347119         0.637948         0.626696          0.633221   \n",
       "1      211.985382         0.917412         0.623513          0.661012   \n",
       "2       35.916069         0.229154         0.627767          0.632907   \n",
       "3      141.259748         0.719149         0.626761          0.649705   \n",
       "4       29.654686         0.454972         0.625570          0.626814   \n",
       "5       30.068752         0.296533         0.626731          0.629206   \n",
       "6       27.129471         0.138093         0.599076          0.608005   \n",
       "7      270.825587         1.086728         0.621767          0.670432   \n",
       "8        3.254176         0.074386         0.504204          0.504475   \n",
       "9      143.635395         0.811307         0.626884          0.646013   \n",
       "10      11.616384         0.222764         0.622299          0.623217   \n",
       "11     236.982276         0.974010         0.624685          0.657099   \n",
       "12      16.229874         0.266617         0.624501          0.625565   \n",
       "13     137.020819         0.727024         0.626493          0.647441   \n",
       "14     139.264088         0.549250         0.624140          0.658437   \n",
       "15     161.978878         0.615667         0.624154          0.660686   \n",
       "16     105.213177         0.663443         0.627002          0.642230   \n",
       "17     135.313021         0.625034         0.625054          0.655306   \n",
       "18       4.581114         0.078127         0.445391          0.446485   \n",
       "19      10.668814         0.176374         0.622653          0.623563   \n",
       "\n",
       "   param_max_depth param_min_samples_leaf param_min_samples_split  \\\n",
       "0                2                      2                       5   \n",
       "1                5                      2                       8   \n",
       "2                4                     10                       9   \n",
       "3                5                      6                       5   \n",
       "4                1                     10                       3   \n",
       "5                2                      7                       3   \n",
       "6                6                      1                      10   \n",
       "7                6                      3                       6   \n",
       "8                2                      2                       6   \n",
       "9                4                      7                       5   \n",
       "10               1                      2                      10   \n",
       "11               6                     10                       7   \n",
       "12               1                     10                       9   \n",
       "13               5                      9                      10   \n",
       "14               6                      2                       5   \n",
       "15               6                      3                       4   \n",
       "16               4                     10                      10   \n",
       "17               5                      4                      10   \n",
       "18               4                      1                       4   \n",
       "19               1                      2                       6   \n",
       "\n",
       "   param_n_estimators                                             params  \\\n",
       "0                 276  {'min_samples_split': 5, 'max_depth': 2, 'n_es...   \n",
       "1                 262  {'max_depth': 5, 'min_samples_split': 8, 'n_es...   \n",
       "2                  53  {'max_depth': 4, 'min_samples_split': 9, 'n_es...   \n",
       "3                 167  {'max_depth': 5, 'min_samples_split': 5, 'n_es...   \n",
       "4                 216  {'max_depth': 1, 'min_samples_split': 3, 'n_es...   \n",
       "5                 106  {'max_depth': 2, 'min_samples_split': 3, 'n_es...   \n",
       "6                  15  {'max_depth': 6, 'min_samples_split': 10, 'n_e...   \n",
       "7                 245  {'max_depth': 6, 'min_samples_split': 6, 'n_es...   \n",
       "8                   9  {'min_samples_split': 6, 'max_depth': 2, 'n_es...   \n",
       "9                 251  {'min_samples_split': 5, 'max_depth': 4, 'n_es...   \n",
       "10                 80  {'max_depth': 1, 'min_samples_split': 10, 'n_e...   \n",
       "11                252  {'max_depth': 6, 'min_samples_split': 7, 'n_es...   \n",
       "12                124  {'max_depth': 1, 'min_samples_split': 9, 'n_es...   \n",
       "13                183  {'max_depth': 5, 'min_samples_split': 10, 'n_e...   \n",
       "14                119  {'min_samples_split': 5, 'max_depth': 6, 'n_es...   \n",
       "15                150  {'max_depth': 6, 'min_samples_split': 4, 'n_es...   \n",
       "16                204  {'max_depth': 4, 'min_samples_split': 10, 'n_e...   \n",
       "17                222  {'max_depth': 5, 'min_samples_split': 10, 'n_e...   \n",
       "18                  6  {'min_samples_split': 4, 'max_depth': 4, 'n_es...   \n",
       "19                 84  {'min_samples_split': 6, 'max_depth': 1, 'n_es...   \n",
       "\n",
       "    rank_test_score  split0_test_score  split0_train_score  split1_test_score  \\\n",
       "0                 6           0.631418            0.630969           0.618928   \n",
       "1                14           0.629839            0.659840           0.614436   \n",
       "2                 1           0.632749            0.630812           0.619991   \n",
       "3                 4           0.631821            0.648072           0.618505   \n",
       "4                 8           0.630718            0.624397           0.617329   \n",
       "5                 5           0.631578            0.626937           0.618637   \n",
       "6                18           0.606737            0.605681           0.590243   \n",
       "7                17           0.627504            0.669192           0.612444   \n",
       "8                19           0.510391            0.502205           0.496552   \n",
       "9                 3           0.631769            0.643873           0.619089   \n",
       "10               16           0.627984            0.620587           0.613983   \n",
       "11               10           0.629968            0.655457           0.616329   \n",
       "12               11           0.629935            0.623035           0.616172   \n",
       "13                7           0.631696            0.644595           0.618966   \n",
       "14               13           0.630336            0.656630           0.615851   \n",
       "15               12           0.629500            0.659032           0.615702   \n",
       "16                2           0.631959            0.639484           0.619479   \n",
       "17                9           0.630491            0.653524           0.616401   \n",
       "18               20           0.450982            0.444664           0.439011   \n",
       "19               15           0.628267            0.620949           0.614336   \n",
       "\n",
       "    split1_train_score  split2_test_score  split2_train_score  std_fit_time  \\\n",
       "0             0.637070           0.629743            0.631624      0.949521   \n",
       "1             0.665090           0.626264            0.658107      1.688889   \n",
       "2             0.636629           0.630561            0.631281      0.392044   \n",
       "3             0.653429           0.629958            0.647614      1.028932   \n",
       "4             0.631041           0.628664            0.625005      0.373402   \n",
       "5             0.633238           0.629976            0.627442      0.084680   \n",
       "6             0.611786           0.600246            0.606547      0.067298   \n",
       "7             0.674759           0.625355            0.667345      3.781425   \n",
       "8             0.507829           0.505670            0.503392      0.155193   \n",
       "9             0.649835           0.629793            0.644331      3.761053   \n",
       "10            0.627550           0.624929            0.621515      0.300445   \n",
       "11            0.663269           0.627759            0.652571      5.804167   \n",
       "12            0.629900           0.627397            0.623761      0.241487   \n",
       "13            0.652424           0.628818            0.645305      2.436735   \n",
       "14            0.661603           0.626234            0.657079      1.898061   \n",
       "15            0.664908           0.627259            0.658117      3.586615   \n",
       "16            0.646915           0.629567            0.640290      1.606862   \n",
       "17            0.659561           0.628270            0.652835     12.953542   \n",
       "18            0.449554           0.446181            0.445237      0.024271   \n",
       "19            0.627903           0.625357            0.621837      0.074556   \n",
       "\n",
       "    std_score_time  std_test_score  std_train_score  \n",
       "0         0.028026        0.005535         0.002735  \n",
       "1         0.027988        0.006582         0.002969  \n",
       "2         0.002161        0.005570         0.002639  \n",
       "3         0.001250        0.005887         0.002640  \n",
       "4         0.039432        0.005888         0.002999  \n",
       "5         0.014850        0.005760         0.002859  \n",
       "6         0.006485        0.006785         0.002697  \n",
       "7         0.046600        0.006651         0.003151  \n",
       "8         0.004500        0.005744         0.002420  \n",
       "9         0.042858        0.005570         0.002709  \n",
       "10        0.008352        0.006011         0.003087  \n",
       "11        0.007366        0.005977         0.004519  \n",
       "12        0.013969        0.005980         0.003079  \n",
       "13        0.072305        0.005451         0.003535  \n",
       "14        0.010025        0.006096         0.002246  \n",
       "15        0.033479        0.006046         0.003009  \n",
       "16        0.021618        0.005408         0.003329  \n",
       "17        0.022098        0.006185         0.003021  \n",
       "18        0.012759        0.004919         0.002183  \n",
       "19        0.015747        0.006000         0.003090  "
      ]
     },
     "execution_count": 19,
     "metadata": {},
     "output_type": "execute_result"
    }
   ],
   "source": [
    "pandas.DataFrame(random_search.cv_results_)"
   ]
  },
  {
   "cell_type": "markdown",
   "metadata": {},
   "source": [
    "On enregistre les résultats dans un fichier csv à part (car le temps de calcul pour obtenir la table précédente est de l'ordre de 30 minutes)"
   ]
  },
  {
   "cell_type": "code",
   "execution_count": 20,
   "metadata": {
    "collapsed": false
   },
   "outputs": [],
   "source": [
    "pandas.DataFrame(random_search.cv_results_).to_csv('random_search.csv')"
   ]
  },
  {
   "cell_type": "markdown",
   "metadata": {},
   "source": [
    "## Learning curves, importance des variables et performance du modèle"
   ]
  },
  {
   "cell_type": "markdown",
   "metadata": {},
   "source": [
    "Etudions les caractéristiques du meilleur modèle exploré. Nous allons :\n",
    "- Afficher la learning curve pour vérifier qu'il n'y a pas eu de sur/sous-apprentissage\n",
    "- Afficher l'importance des variables explicatives\n",
    "- Afficher les performances du modèle sur les données de test (séparées au début de ce notebook, et qui n'ont donc pas influencé le choix des hyperparamètres)"
   ]
  },
  {
   "cell_type": "markdown",
   "metadata": {},
   "source": [
    "### Learning curves\n",
    "Commençons avec la learning curve. Comme dans le noteboook précédent, on utilise la fonction 'plot_learning_curve' récupérée ici : http://scikit-learn.org/stable/auto_examples/model_selection/plot_learning_curve.html"
   ]
  },
  {
   "cell_type": "code",
   "execution_count": 25,
   "metadata": {
    "collapsed": false
   },
   "outputs": [],
   "source": [
    "def plot_learning_curve(estimator, title, X, y, ylim=None, cv=None,\n",
    "                        n_jobs=1, train_sizes=numpy.linspace(.1, 1.0, 5)):\n",
    "    \"\"\"\n",
    "    Generate a simple plot of the test and training learning curve.\n",
    "\n",
    "    Parameters\n",
    "    ----------\n",
    "    estimator : object type that implements the \"fit\" and \"predict\" methods\n",
    "        An object of that type which is cloned for each validation.\n",
    "\n",
    "    title : string\n",
    "        Title for the chart.\n",
    "\n",
    "    X : array-like, shape (n_samples, n_features)\n",
    "        Training vector, where n_samples is the number of samples and\n",
    "        n_features is the number of features.\n",
    "\n",
    "    y : array-like, shape (n_samples) or (n_samples, n_features), optional\n",
    "        Target relative to X for classification or regression;\n",
    "        None for unsupervised learning.\n",
    "\n",
    "    ylim : tuple, shape (ymin, ymax), optional\n",
    "        Defines minimum and maximum yvalues plotted.\n",
    "\n",
    "    cv : int, cross-validation generator or an iterable, optional\n",
    "        Determines the cross-validation splitting strategy.\n",
    "        Possible inputs for cv are:\n",
    "          - None, to use the default 3-fold cross-validation,\n",
    "          - integer, to specify the number of folds.\n",
    "          - An object to be used as a cross-validation generator.\n",
    "          - An iterable yielding train/test splits.\n",
    "\n",
    "        For integer/None inputs, if ``y`` is binary or multiclass,\n",
    "        :class:`StratifiedKFold` used. If the estimator is not a classifier\n",
    "        or if ``y`` is neither binary nor multiclass, :class:`KFold` is used.\n",
    "\n",
    "        Refer :ref:`User Guide <cross_validation>` for the various\n",
    "        cross-validators that can be used here.\n",
    "\n",
    "    n_jobs : integer, optional\n",
    "        Number of jobs to run in parallel (default 1).\n",
    "    \"\"\"\n",
    "    plt.figure()\n",
    "    plt.title(title)\n",
    "    if ylim is not None:\n",
    "        plt.ylim(*ylim)\n",
    "    plt.xlabel(\"Training examples\")\n",
    "    plt.ylabel(\"Score\")\n",
    "    train_sizes, train_scores, test_scores = model_selection.learning_curve(\n",
    "        estimator, X, y, cv=cv, n_jobs=n_jobs, train_sizes=train_sizes)\n",
    "    train_scores_mean = numpy.mean(train_scores, axis=1)\n",
    "    train_scores_std = numpy.std(train_scores, axis=1)\n",
    "    test_scores_mean = numpy.mean(test_scores, axis=1)\n",
    "    test_scores_std = numpy.std(test_scores, axis=1)\n",
    "    plt.grid()\n",
    "\n",
    "    plt.fill_between(train_sizes, train_scores_mean - train_scores_std,\n",
    "                     train_scores_mean + train_scores_std, alpha=0.1,\n",
    "                     color=\"r\")\n",
    "    plt.fill_between(train_sizes, test_scores_mean - test_scores_std,\n",
    "                     test_scores_mean + test_scores_std, alpha=0.1, color=\"g\")\n",
    "    plt.plot(train_sizes, train_scores_mean, 'o-', color=\"r\",\n",
    "             label=\"Training score\")\n",
    "    plt.plot(train_sizes, test_scores_mean, 'o-', color=\"g\",\n",
    "             label=\"Test score\")\n",
    "\n",
    "    plt.legend(loc=\"best\")\n",
    "    return plt"
   ]
  },
  {
   "cell_type": "code",
   "execution_count": 27,
   "metadata": {
    "collapsed": false
   },
   "outputs": [
    {
     "data": {
      "image/png": "[encoded data removed]",
      "text/plain": [
       "<matplotlib.figure.Figure at 0x2559e480eb8>"
      ]
     },
     "metadata": {},
     "output_type": "display_data"
    }
   ],
   "source": [
    "title = str(\n",
    "'Learning Curves (Gradient Boosting, max_depth=' + str(random_search.best_estimator_.max_depth) +\n",
    "', n_estimators=' + str(random_search.best_estimator_.n_estimators) +\n",
    "', min_samples_split=' + str(random_search.best_estimator_.min_samples_split) +\n",
    "', min_samples_leaf=' + str(random_search.best_estimator_.min_samples_leaf) + ')'\n",
    "    )\n",
    "\n",
    "gboost_final = ensemble.GradientBoostingRegressor(max_depth=random_search.best_estimator_.max_depth,\n",
    "                                                  n_estimators=random_search.best_estimator_.n_estimators)\n",
    "plot_learning_curve(gboost_final, title, X_train, y_train)\n",
    "plt.show()"
   ]
  },
  {
   "cell_type": "markdown",
   "metadata": {},
   "source": [
    "La learning curve a une 'bonne' forme : les deux scores se rapprochent et finissent par être proches. Ainsi, on sait que le modèle a atteint son maximum de capacité d'apprentissage. On est bien hors des situations de sous-apprentissage et de sur-apprentissage"
   ]
  },
  {
   "cell_type": "code",
   "execution_count": 28,
   "metadata": {
    "collapsed": false
   },
   "outputs": [
    {
     "data": {
      "text/plain": [
       "GradientBoostingRegressor(alpha=0.9, criterion='friedman_mse', init=None,\n",
       "             learning_rate=0.1, loss='ls', max_depth=4, max_features=None,\n",
       "             max_leaf_nodes=None, min_impurity_split=1e-07,\n",
       "             min_samples_leaf=1, min_samples_split=2,\n",
       "             min_weight_fraction_leaf=0.0, n_estimators=53, presort='auto',\n",
       "             random_state=None, subsample=1.0, verbose=0, warm_start=False)"
      ]
     },
     "execution_count": 28,
     "metadata": {},
     "output_type": "execute_result"
    }
   ],
   "source": [
    "gboost_final.fit(X_train,y_train)"
   ]
  },
  {
   "cell_type": "markdown",
   "metadata": {},
   "source": [
    "### Importance des variables\n",
    "On affiche ensuite l'importance des variables (issue de http://scikit-learn.org/stable/auto_examples/ensemble/plot_gradient_boosting_regression.html)"
   ]
  },
  {
   "cell_type": "code",
   "execution_count": 29,
   "metadata": {
    "collapsed": false
   },
   "outputs": [
    {
     "data": {
      "image/png": "[encoded data removed]",
      "text/plain": [
       "<matplotlib.figure.Figure at 0x255ae24d2b0>"
      ]
     },
     "metadata": {},
     "output_type": "display_data"
    }
   ],
   "source": [
    "feature_importance = gboost_final.feature_importances_\n",
    "# make importances relative to max importance\n",
    "feature_importance = 100.0 * (feature_importance / feature_importance.max())\n",
    "sorted_idx = numpy.argsort(feature_importance)\n",
    "pos = numpy.arange(sorted_idx.shape[0]) + .5\n",
    "plt.subplot(1, 2, 2)\n",
    "plt.barh(pos, feature_importance[sorted_idx], align='center')\n",
    "plt.yticks(pos, X.columns[sorted_idx])\n",
    "plt.xlabel('Relative Importance')\n",
    "plt.title('Variable Importance')\n",
    "plt.show()"
   ]
  },
  {
   "cell_type": "markdown",
   "metadata": {},
   "source": [
    "La variable qu'on a ajouté lors du notebook 3 se place en deuxième position. C'était donc un choix judicieux.\n",
    "\n",
    "Observons les distributions des valeurs prédites vs les valeurs réelles :"
   ]
  },
  {
   "cell_type": "code",
   "execution_count": 39,
   "metadata": {
    "collapsed": false
   },
   "outputs": [
    {
     "data": {
      "image/png": "[encoded data removed]",
      "text/plain": [
       "<matplotlib.figure.Figure at 0x25591e33438>"
      ]
     },
     "metadata": {},
     "output_type": "display_data"
    }
   ],
   "source": [
    "bins = numpy.linspace(0, 20, 40)\n",
    "\n",
    "plt.hist(gboost_final.predict(X_test), bins, alpha=0.5, label='valeur prédite')\n",
    "plt.hist(y_test, bins, alpha=0.5, label='valeur réelle')\n",
    "plt.legend(loc='upper right')\n",
    "plt.title(\"Prédiction des valeurs de pourboire\")\n",
    "plt.xlabel(\"Value\")\n",
    "plt.ylabel(\"Frequency\")\n",
    "plt.show()"
   ]
  },
  {
   "cell_type": "markdown",
   "metadata": {},
   "source": [
    "On remarque que l'algorithme ne parvient pas a ajuster les petites valeurs de pourboire. On avait déjà remarqué ce phénomène avec le modèle linéaire. On peut suppose que le comportement des petites valeurs de pourboires (< 1$) est beaucoup moins prévisible que les valeurs plus grandes."
   ]
  },
  {
   "cell_type": "markdown",
   "metadata": {},
   "source": [
    "### Performance du modèle\n",
    "Pour terminer, on va mesurer la qualité de l'algorithme choisi sur les données de test initiales :"
   ]
  },
  {
   "cell_type": "code",
   "execution_count": 30,
   "metadata": {
    "collapsed": false
   },
   "outputs": [
    {
     "data": {
      "text/plain": [
       "0.6319429632685567"
      ]
     },
     "execution_count": 30,
     "metadata": {},
     "output_type": "execute_result"
    }
   ],
   "source": [
    "gboost_final.score(X_test,y_test)"
   ]
  },
  {
   "cell_type": "markdown",
   "metadata": {},
   "source": [
    "Ce score est en accord avec les évaluations précédentes sur les sets de cross-validation. Pour finir, affichons l'erreur moyenne commise :"
   ]
  },
  {
   "cell_type": "code",
   "execution_count": 37,
   "metadata": {
    "collapsed": false
   },
   "outputs": [
    {
     "data": {
      "text/plain": [
       "1.2965803085535073"
      ]
     },
     "execution_count": 37,
     "metadata": {},
     "output_type": "execute_result"
    }
   ],
   "source": [
    "from math import sqrt\n",
    "sqrt(metrics.mean_squared_error(y_test, gboost_final.predict(X_test)))"
   ]
  },
  {
   "cell_type": "markdown",
   "metadata": {},
   "source": [
    "En moyenne, on a une erreur de 1,30$"
   ]
  },
  {
   "cell_type": "markdown",
   "metadata": {},
   "source": [
    "Note : Certains articles montrent qu'il est plus efficace (beaucoup plus rapide et légère perte de performance) de faire un random search plutôt qu'un grid search. C'est pourquoi c'est la méthode qu'on a utilisé ici. (http://www.jmlr.org/papers/volume13/bergstra12a/bergstra12a.pdf)\n",
    "\n",
    "Pour information, le random search dans ce notebook a tourné environ 40 min sur un intel i5-2500k quad-core."
   ]
  }
 ],
 "metadata": {
  "anaconda-cloud": {},
  "kernelspec": {
   "display_name": "Python [default]",
   "language": "python",
   "name": "python3"
  },
  "language_info": {
   "codemirror_mode": {
    "name": "ipython",
    "version": 3
   },
   "file_extension": ".py",
   "mimetype": "text/x-python",
   "name": "python",
   "nbconvert_exporter": "python",
   "pygments_lexer": "ipython3",
   "version": "3.5.2"
  }
 },
 "nbformat": 4,
 "nbformat_minor": 1
}
