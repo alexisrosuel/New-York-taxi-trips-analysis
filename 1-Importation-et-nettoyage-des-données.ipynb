{
 "cells": [
  {
   "cell_type": "markdown",
   "metadata": {},
   "source": [
    "# 1 - Importation et nettoyage des données"
   ]
  },
  {
   "cell_type": "markdown",
   "metadata": {},
   "source": [
    "Commençons par une présentation du sujet que l'on a choisi de traiter.\n",
    "\n",
    "Le dataset est celui des courses de taxi à New York : http://chriswhong.com/open-data/foil_nyc_taxi/. Il contient environ les données de 170 millions de courses effectuées en 2013. \n",
    "\n",
    "Concrètement, le dataset est composé des fichiers suivants :\n",
    "- 12 fichiers concernant les informations sur les variables de paiements (prix total, pourboire, péages, etc.) des courses par mois (fichier 1 -> janvier, etc.)\n",
    "- 12 fichiers concernant les informations sur les variables de 'course' (heure, localisation, nombre de passagers, etc.), aussi réparties par mois.\n",
    "\n",
    "L'ensemble des données représente 45,2 Go de données brutes. Nous avons choisi de ne pas faire nos analyses sur le jeu complet. Néanmoins, le dernier notebook propose quelques utilisation basiques de cytoolz afin de calculer quelques résultats simples.\n",
    "\n",
    "Au cours des notebooks qui vont suivre, nous allons chercher à comprendre quelle variables influent sur la valeur du pourboire laissée en fin de courses, dans le but de construire ensuite des modèles de prédiction portant sur cette variable. Voici la liste des notebooks :\n",
    "- 1) Importation et nettoyage des données\n",
    "- 2) Quelques explorations et représentation graphique\n",
    "- 3) Tests statistiques sur la significativité de certaines variables\n",
    "- 4) Construction d'un modèle de classification (pourboire=0 vs pourboire>0)\n",
    "- 5) Construction d'un modèle de regression (prédiction de la valeur exacte du pourboire)\n",
    "- 6) Utilisation de cytoolz"
   ]
  },
  {
   "cell_type": "code",
   "execution_count": 27,
   "metadata": {
    "collapsed": true
   },
   "outputs": [],
   "source": [
    "%matplotlib inline"
   ]
  },
  {
   "cell_type": "markdown",
   "metadata": {},
   "source": [
    "On importe la librairie qu'on va utiliser"
   ]
  },
  {
   "cell_type": "code",
   "execution_count": 28,
   "metadata": {
    "collapsed": true
   },
   "outputs": [],
   "source": [
    "import pandas"
   ]
  },
  {
   "cell_type": "markdown",
   "metadata": {},
   "source": [
    "Parmis les 45 Go de données disponibles, on a préalablement tiré aléatoirement, sans remise, 0.5% des courses. Ce nouveau dataset est enregistré au format csv sous le nom 'trip_small.csv'. Cette étape n'est pas décrite dans ce rapport (il s'agit simplement d'un join entre les deux fichiers disponibles par mois, puis d'un tirage aléatoire).\n",
    "\n",
    "On charge ensuite le fichier 'trip_small.csv' à l'aide de la commande suivante :"
   ]
  },
  {
   "cell_type": "code",
   "execution_count": 29,
   "metadata": {
    "collapsed": false
   },
   "outputs": [],
   "source": [
    "directory = 'C:\\\\Users\\\\Alexis\\\\Google Drive\\\\Documents\\\\ENSAE\\\\Semestre 1\\\\Projet python\\\\'\n",
    "#directory = '/Users/pierredesmet/Documents/Documents Word/Etudes/UTT/ENSAE/Python pour le Data Scientist/'\n",
    "#importation des data des trips    \n",
    "with open(directory+'trip_small.csv', 'r', encoding='utf-8') as f :\n",
    "    df = pandas.read_csv(f, sep=',', \n",
    "                         header=0,\n",
    "                         index_col=False,\n",
    "                         na_filter=True\n",
    "                         )\n",
    "    df['pickup_datetime'] = pandas.to_datetime(df['pickup_datetime'], format='%Y-%m-%d %H:%M:%S')\n",
    "    df['dropoff_datetime'] = pandas.to_datetime(df['dropoff_datetime'], format='%Y-%m-%d %H:%M:%S')"
   ]
  },
  {
   "cell_type": "markdown",
   "metadata": {},
   "source": [
    "On affiche une partie du dataframe pour vérifier que l'importation s'est bien passée"
   ]
  },
  {
   "cell_type": "code",
   "execution_count": 30,
   "metadata": {
    "collapsed": false
   },
   "outputs": [
    {
     "data": {
      "text/html": [
       "<div>\n",
       "<table border=\"1\" class=\"dataframe\">\n",
       "  <thead>\n",
       "    <tr style=\"text-align: right;\">\n",
       "      <th></th>\n",
       "      <th>medallion</th>\n",
       "      <th>hack_license</th>\n",
       "      <th>vendor_id</th>\n",
       "      <th>pickup_datetime</th>\n",
       "      <th>payment_type</th>\n",
       "      <th>fare_amount</th>\n",
       "      <th>surcharge</th>\n",
       "      <th>mta_tax</th>\n",
       "      <th>tip_amount</th>\n",
       "      <th>tolls_amount</th>\n",
       "      <th>...</th>\n",
       "      <th>rate_code</th>\n",
       "      <th>store_and_fwd_flag</th>\n",
       "      <th>dropoff_datetime</th>\n",
       "      <th>passenger_count</th>\n",
       "      <th>trip_time_in_secs</th>\n",
       "      <th>trip_distance</th>\n",
       "      <th>pickup_longitude</th>\n",
       "      <th>pickup_lattitude</th>\n",
       "      <th>dropoff_longitude</th>\n",
       "      <th>dropoff_lattitude</th>\n",
       "    </tr>\n",
       "  </thead>\n",
       "  <tbody>\n",
       "    <tr>\n",
       "      <th>0</th>\n",
       "      <td>D5367E940A20B9D2550BF7CF7AE01681</td>\n",
       "      <td>5B34A2589D1D2106FC0C47564A4833F0</td>\n",
       "      <td>CMT</td>\n",
       "      <td>2013-01-08 12:50:22</td>\n",
       "      <td>CSH</td>\n",
       "      <td>7.5</td>\n",
       "      <td>0.0</td>\n",
       "      <td>0.5</td>\n",
       "      <td>0.0</td>\n",
       "      <td>0.0</td>\n",
       "      <td>...</td>\n",
       "      <td>1</td>\n",
       "      <td>N</td>\n",
       "      <td>2013-01-08 12:58:39</td>\n",
       "      <td>2</td>\n",
       "      <td>496</td>\n",
       "      <td>1.10</td>\n",
       "      <td>-73.952026</td>\n",
       "      <td>40.766479</td>\n",
       "      <td>-73.966827</td>\n",
       "      <td>40.759968</td>\n",
       "    </tr>\n",
       "    <tr>\n",
       "      <th>1</th>\n",
       "      <td>69F42CD1BA72F0F090E85F299C7B6301</td>\n",
       "      <td>65BABDDBC94F4C1AA996FA693E4D4F57</td>\n",
       "      <td>VTS</td>\n",
       "      <td>2013-01-13 11:09:00</td>\n",
       "      <td>CRD</td>\n",
       "      <td>5.0</td>\n",
       "      <td>0.0</td>\n",
       "      <td>0.5</td>\n",
       "      <td>1.0</td>\n",
       "      <td>0.0</td>\n",
       "      <td>...</td>\n",
       "      <td>1</td>\n",
       "      <td>NaN</td>\n",
       "      <td>2013-01-13 11:13:00</td>\n",
       "      <td>1</td>\n",
       "      <td>240</td>\n",
       "      <td>0.57</td>\n",
       "      <td>-73.999786</td>\n",
       "      <td>40.728497</td>\n",
       "      <td>-73.994179</td>\n",
       "      <td>40.724926</td>\n",
       "    </tr>\n",
       "    <tr>\n",
       "      <th>2</th>\n",
       "      <td>F0C1205FC27DF89D8C9F8DC2F324E36C</td>\n",
       "      <td>FAA39BEB7D7159DCB3DCAC56EED0CEA7</td>\n",
       "      <td>VTS</td>\n",
       "      <td>2013-01-13 10:28:00</td>\n",
       "      <td>CSH</td>\n",
       "      <td>4.5</td>\n",
       "      <td>0.0</td>\n",
       "      <td>0.5</td>\n",
       "      <td>0.0</td>\n",
       "      <td>0.0</td>\n",
       "      <td>...</td>\n",
       "      <td>1</td>\n",
       "      <td>NaN</td>\n",
       "      <td>2013-01-13 10:31:00</td>\n",
       "      <td>5</td>\n",
       "      <td>180</td>\n",
       "      <td>0.61</td>\n",
       "      <td>-73.978935</td>\n",
       "      <td>40.784966</td>\n",
       "      <td>-73.971329</td>\n",
       "      <td>40.786163</td>\n",
       "    </tr>\n",
       "    <tr>\n",
       "      <th>3</th>\n",
       "      <td>3112FC4E5C14054B8A5DB00037572C70</td>\n",
       "      <td>9F959826431402B410E0B8FA23160AFE</td>\n",
       "      <td>VTS</td>\n",
       "      <td>2013-01-13 10:32:00</td>\n",
       "      <td>CSH</td>\n",
       "      <td>5.5</td>\n",
       "      <td>0.0</td>\n",
       "      <td>0.5</td>\n",
       "      <td>0.0</td>\n",
       "      <td>0.0</td>\n",
       "      <td>...</td>\n",
       "      <td>1</td>\n",
       "      <td>NaN</td>\n",
       "      <td>2013-01-13 10:35:00</td>\n",
       "      <td>5</td>\n",
       "      <td>180</td>\n",
       "      <td>1.28</td>\n",
       "      <td>-73.960541</td>\n",
       "      <td>40.762005</td>\n",
       "      <td>-73.950432</td>\n",
       "      <td>40.776211</td>\n",
       "    </tr>\n",
       "    <tr>\n",
       "      <th>4</th>\n",
       "      <td>83D724FB9372FAA2691477C69BA5960D</td>\n",
       "      <td>13965C53790515B884992824857D6ABE</td>\n",
       "      <td>VTS</td>\n",
       "      <td>2013-01-13 10:09:00</td>\n",
       "      <td>CSH</td>\n",
       "      <td>20.0</td>\n",
       "      <td>0.0</td>\n",
       "      <td>0.5</td>\n",
       "      <td>0.0</td>\n",
       "      <td>0.0</td>\n",
       "      <td>...</td>\n",
       "      <td>1</td>\n",
       "      <td>NaN</td>\n",
       "      <td>2013-01-13 10:31:00</td>\n",
       "      <td>1</td>\n",
       "      <td>1320</td>\n",
       "      <td>5.56</td>\n",
       "      <td>-73.955032</td>\n",
       "      <td>40.820316</td>\n",
       "      <td>-73.965187</td>\n",
       "      <td>40.759563</td>\n",
       "    </tr>\n",
       "  </tbody>\n",
       "</table>\n",
       "<p>5 rows × 21 columns</p>\n",
       "</div>"
      ],
      "text/plain": [
       "                          medallion                      hack_license  \\\n",
       "0  D5367E940A20B9D2550BF7CF7AE01681  5B34A2589D1D2106FC0C47564A4833F0   \n",
       "1  69F42CD1BA72F0F090E85F299C7B6301  65BABDDBC94F4C1AA996FA693E4D4F57   \n",
       "2  F0C1205FC27DF89D8C9F8DC2F324E36C  FAA39BEB7D7159DCB3DCAC56EED0CEA7   \n",
       "3  3112FC4E5C14054B8A5DB00037572C70  9F959826431402B410E0B8FA23160AFE   \n",
       "4  83D724FB9372FAA2691477C69BA5960D  13965C53790515B884992824857D6ABE   \n",
       "\n",
       "  vendor_id     pickup_datetime payment_type  fare_amount  surcharge  mta_tax  \\\n",
       "0       CMT 2013-01-08 12:50:22          CSH          7.5        0.0      0.5   \n",
       "1       VTS 2013-01-13 11:09:00          CRD          5.0        0.0      0.5   \n",
       "2       VTS 2013-01-13 10:28:00          CSH          4.5        0.0      0.5   \n",
       "3       VTS 2013-01-13 10:32:00          CSH          5.5        0.0      0.5   \n",
       "4       VTS 2013-01-13 10:09:00          CSH         20.0        0.0      0.5   \n",
       "\n",
       "   tip_amount  tolls_amount        ...          rate_code  store_and_fwd_flag  \\\n",
       "0         0.0           0.0        ...                  1                   N   \n",
       "1         1.0           0.0        ...                  1                 NaN   \n",
       "2         0.0           0.0        ...                  1                 NaN   \n",
       "3         0.0           0.0        ...                  1                 NaN   \n",
       "4         0.0           0.0        ...                  1                 NaN   \n",
       "\n",
       "     dropoff_datetime passenger_count  trip_time_in_secs  trip_distance  \\\n",
       "0 2013-01-08 12:58:39               2                496           1.10   \n",
       "1 2013-01-13 11:13:00               1                240           0.57   \n",
       "2 2013-01-13 10:31:00               5                180           0.61   \n",
       "3 2013-01-13 10:35:00               5                180           1.28   \n",
       "4 2013-01-13 10:31:00               1               1320           5.56   \n",
       "\n",
       "   pickup_longitude  pickup_lattitude  dropoff_longitude  dropoff_lattitude  \n",
       "0        -73.952026         40.766479         -73.966827          40.759968  \n",
       "1        -73.999786         40.728497         -73.994179          40.724926  \n",
       "2        -73.978935         40.784966         -73.971329          40.786163  \n",
       "3        -73.960541         40.762005         -73.950432          40.776211  \n",
       "4        -73.955032         40.820316         -73.965187          40.759563  \n",
       "\n",
       "[5 rows x 21 columns]"
      ]
     },
     "execution_count": 30,
     "metadata": {},
     "output_type": "execute_result"
    }
   ],
   "source": [
    "df.head()"
   ]
  },
  {
   "cell_type": "markdown",
   "metadata": {},
   "source": [
    "On regarde aussi le nombre de trajets :"
   ]
  },
  {
   "cell_type": "code",
   "execution_count": 31,
   "metadata": {
    "collapsed": false
   },
   "outputs": [
    {
     "data": {
      "text/plain": [
       "(865886, 21)"
      ]
     },
     "execution_count": 31,
     "metadata": {},
     "output_type": "execute_result"
    }
   ],
   "source": [
    "df.shape"
   ]
  },
  {
   "cell_type": "markdown",
   "metadata": {},
   "source": [
    "Ce résultat est cohérent avec les 170 millions de trajets annoncés sur le site. En effet, 0.5% de 170 millions font bien :"
   ]
  },
  {
   "cell_type": "code",
   "execution_count": 32,
   "metadata": {
    "collapsed": false
   },
   "outputs": [
    {
     "data": {
      "text/plain": [
       "850000.0"
      ]
     },
     "execution_count": 32,
     "metadata": {},
     "output_type": "execute_result"
    }
   ],
   "source": [
    "0.005*170000000"
   ]
  },
  {
   "cell_type": "markdown",
   "metadata": {},
   "source": [
    "On peut maintenant effectuer le nettoyage des données. Pour chaque colonne, on va vérifier qu'elle ne contient pas de valeurs abberante.\n",
    "Commençons par supprimer de suite les variables qui ne serviront pas : \n",
    "- `store_and_fwd_flag` : variable qui indique si le taxi était connecté à un serveur lors de l'envoi des données\n",
    "- `mta_tax` : variable qui vaut toujours 0.50$ (c'est une taxe à NYC)\n",
    "- `rate_code` : indique si c'est le taux standard ou un autre taux. Dans les faits, cette variable vaut (quasiment) toujours le taux standard\n",
    "\n",
    "Supprimons les."
   ]
  },
  {
   "cell_type": "code",
   "execution_count": 33,
   "metadata": {
    "collapsed": false
   },
   "outputs": [],
   "source": [
    "df = df.drop(['store_and_fwd_flag', 'mta_tax', 'rate_code'], axis=1)"
   ]
  },
  {
   "cell_type": "markdown",
   "metadata": {},
   "source": [
    "Commençons avec '`medallion`' : on sait que c'est un 'identifiant' donné par la mairie de NYC pris par un chauffeur en début de tournée et rendu en fin de tournée. Il y en a environ 13 000. Vérifions le. (source : https://en.wikipedia.org/wiki/Taxicabs_of_New_York_City)"
   ]
  },
  {
   "cell_type": "code",
   "execution_count": 34,
   "metadata": {
    "collapsed": false
   },
   "outputs": [
    {
     "data": {
      "text/plain": [
       "13491"
      ]
     },
     "execution_count": 34,
     "metadata": {},
     "output_type": "execute_result"
    }
   ],
   "source": [
    "len(df.groupby(['medallion']).medallion.nunique())"
   ]
  },
  {
   "cell_type": "markdown",
   "metadata": {},
   "source": [
    "C'est cohérent. Faisons de même avec `hack_license`. La hack licence est censée représenter l'identifiant d'un chauffeur de taxi (chaque chauffeur possède un identifiant fixe)."
   ]
  },
  {
   "cell_type": "code",
   "execution_count": 35,
   "metadata": {
    "collapsed": false
   },
   "outputs": [
    {
     "data": {
      "text/plain": [
       "38513"
      ]
     },
     "execution_count": 35,
     "metadata": {},
     "output_type": "execute_result"
    }
   ],
   "source": [
    "len(df.groupby(['hack_license']).hack_license.nunique())"
   ]
  },
  {
   "cell_type": "markdown",
   "metadata": {},
   "source": [
    "Il y aurait environ 38 000 taximen à NYC. Cette valeur est en adéquation avec le nombre de medallion distribués par la ville (trois chauffeurs pour un medallion).\n",
    "On continue avec `vendor_id` et `payment_type`: \n",
    "- Il existe deux applications tierces concurrente de paiement : CMT et VTS\n",
    "- Il existe 5 modes de paiements : \n",
    "  1. Credit card \n",
    "  2. Cash \n",
    "  3. No charge\n",
    "  4. Dispute\n",
    "  5. Unknown "
   ]
  },
  {
   "cell_type": "code",
   "execution_count": 36,
   "metadata": {
    "collapsed": false
   },
   "outputs": [
    {
     "data": {
      "text/plain": [
       "vendor_id\n",
       "CMT    433947\n",
       "VTS    431939\n",
       "Name: vendor_id, dtype: int64"
      ]
     },
     "execution_count": 36,
     "metadata": {},
     "output_type": "execute_result"
    }
   ],
   "source": [
    "df.groupby(['vendor_id']).vendor_id.count()"
   ]
  },
  {
   "cell_type": "code",
   "execution_count": 37,
   "metadata": {
    "collapsed": false
   },
   "outputs": [
    {
     "data": {
      "text/plain": [
       "payment_type\n",
       "CRD    466716\n",
       "CSH    395425\n",
       "DIS       631\n",
       "NOC      2051\n",
       "UNK      1063\n",
       "Name: payment_type, dtype: int64"
      ]
     },
     "execution_count": 37,
     "metadata": {},
     "output_type": "execute_result"
    }
   ],
   "source": [
    "df.groupby(['payment_type']).payment_type.count()"
   ]
  },
  {
   "cell_type": "markdown",
   "metadata": {},
   "source": [
    "C'est bon aussi.\n",
    "Les variables `pickup_datetime` et `dropoff_datetime` représentent la date de début et de fin de la course. Vérifions qu'elle sont bien du type date :"
   ]
  },
  {
   "cell_type": "code",
   "execution_count": 38,
   "metadata": {
    "collapsed": false
   },
   "outputs": [
    {
     "name": "stdout",
     "output_type": "stream",
     "text": [
      "datetime64[ns]\n",
      "datetime64[ns]\n"
     ]
    }
   ],
   "source": [
    "print(df.pickup_datetime.dtype)\n",
    "print(df.dropoff_datetime.dtype)"
   ]
  },
  {
   "cell_type": "markdown",
   "metadata": {},
   "source": [
    "C'est bien le cas.\n",
    "Poursuivons avec `passenger_count`. Cette variable doit être un entier, strictement positif, et pas trop grand (au-delà de 10 on peut se poser des questions...). Observons les valeurs prises par cette variable."
   ]
  },
  {
   "cell_type": "code",
   "execution_count": 39,
   "metadata": {
    "collapsed": false
   },
   "outputs": [
    {
     "data": {
      "text/plain": [
       "passenger_count\n",
       "0        23\n",
       "1    610131\n",
       "2    117412\n",
       "3     36544\n",
       "4     17921\n",
       "5     50003\n",
       "6     33852\n",
       "Name: passenger_count, dtype: int64"
      ]
     },
     "execution_count": 39,
     "metadata": {},
     "output_type": "execute_result"
    }
   ],
   "source": [
    "df.groupby(['passenger_count']).passenger_count.count()"
   ]
  },
  {
   "cell_type": "markdown",
   "metadata": {},
   "source": [
    "On a 23 courses sans passagers ! Ajoutons donc une règle qui ne garde que les courses qui sont strictement positives"
   ]
  },
  {
   "cell_type": "code",
   "execution_count": 40,
   "metadata": {
    "collapsed": true
   },
   "outputs": [],
   "source": [
    "df = df[df['passenger_count'] >= 1]"
   ]
  },
  {
   "cell_type": "markdown",
   "metadata": {},
   "source": [
    "Passons aux variables relatives aux caractéristiques de la course : `trip_distance` et `trip_time_in_secs`. Calculons les indicateurs usuels de dispersion :"
   ]
  },
  {
   "cell_type": "code",
   "execution_count": 41,
   "metadata": {
    "collapsed": false
   },
   "outputs": [
    {
     "data": {
      "text/html": [
       "<div>\n",
       "<table border=\"1\" class=\"dataframe\">\n",
       "  <thead>\n",
       "    <tr style=\"text-align: right;\">\n",
       "      <th></th>\n",
       "      <th>trip_time_in_secs</th>\n",
       "      <th>trip_distance</th>\n",
       "    </tr>\n",
       "  </thead>\n",
       "  <tbody>\n",
       "    <tr>\n",
       "      <th>count</th>\n",
       "      <td>8.658630e+05</td>\n",
       "      <td>8.658630e+05</td>\n",
       "    </tr>\n",
       "    <tr>\n",
       "      <th>mean</th>\n",
       "      <td>7.932786e+02</td>\n",
       "      <td>4.736823e+00</td>\n",
       "    </tr>\n",
       "    <tr>\n",
       "      <th>std</th>\n",
       "      <td>1.304894e+04</td>\n",
       "      <td>1.719473e+03</td>\n",
       "    </tr>\n",
       "    <tr>\n",
       "      <th>min</th>\n",
       "      <td>-1.000000e+01</td>\n",
       "      <td>0.000000e+00</td>\n",
       "    </tr>\n",
       "    <tr>\n",
       "      <th>25%</th>\n",
       "      <td>3.600000e+02</td>\n",
       "      <td>1.040000e+00</td>\n",
       "    </tr>\n",
       "    <tr>\n",
       "      <th>50%</th>\n",
       "      <td>6.000000e+02</td>\n",
       "      <td>1.800000e+00</td>\n",
       "    </tr>\n",
       "    <tr>\n",
       "      <th>75%</th>\n",
       "      <td>9.600000e+02</td>\n",
       "      <td>3.200000e+00</td>\n",
       "    </tr>\n",
       "    <tr>\n",
       "      <th>max</th>\n",
       "      <td>4.294948e+06</td>\n",
       "      <td>1.600000e+06</td>\n",
       "    </tr>\n",
       "  </tbody>\n",
       "</table>\n",
       "</div>"
      ],
      "text/plain": [
       "       trip_time_in_secs  trip_distance\n",
       "count       8.658630e+05   8.658630e+05\n",
       "mean        7.932786e+02   4.736823e+00\n",
       "std         1.304894e+04   1.719473e+03\n",
       "min        -1.000000e+01   0.000000e+00\n",
       "25%         3.600000e+02   1.040000e+00\n",
       "50%         6.000000e+02   1.800000e+00\n",
       "75%         9.600000e+02   3.200000e+00\n",
       "max         4.294948e+06   1.600000e+06"
      ]
     },
     "execution_count": 41,
     "metadata": {},
     "output_type": "execute_result"
    }
   ],
   "source": [
    "df[['trip_time_in_secs', 'trip_distance']].describe()"
   ]
  },
  {
   "cell_type": "markdown",
   "metadata": {},
   "source": [
    "On remarque qu'il existe des valeurs incohérentes : négatives ou beaucoup trop grandes ! Observons le à l'aide d'histogrammes."
   ]
  },
  {
   "cell_type": "code",
   "execution_count": 42,
   "metadata": {
    "collapsed": false
   },
   "outputs": [
    {
     "data": {
      "text/plain": [
       "array([[<matplotlib.axes._subplots.AxesSubplot object at 0x000001C118FDE7B8>,\n",
       "        <matplotlib.axes._subplots.AxesSubplot object at 0x000001C11DACE208>]], dtype=object)"
      ]
     },
     "execution_count": 42,
     "metadata": {},
     "output_type": "execute_result"
    },
    {
     "data": {
      "image/png": "[encoded data removed]",
      "text/plain": [
       "<matplotlib.figure.Figure at 0x1c118f826a0>"
      ]
     },
     "metadata": {},
     "output_type": "display_data"
    }
   ],
   "source": [
    "df.hist(column=['trip_time_in_secs','trip_distance'],bins=100, figsize=(10,10))"
   ]
  },
  {
   "cell_type": "markdown",
   "metadata": {},
   "source": [
    "On exclue donc les valeurs extrèmes (plus petites que le quantile 0.001 et plus grandes que le quantile 0.999)"
   ]
  },
  {
   "cell_type": "code",
   "execution_count": 43,
   "metadata": {
    "collapsed": true
   },
   "outputs": [],
   "source": [
    "q1 = df['trip_time_in_secs'].quantile(q=0.001)\n",
    "q2 = df['trip_time_in_secs'].quantile(q=0.999)\n",
    "df = df[(df['trip_time_in_secs'] < q2) & (df['trip_time_in_secs'] > q1 )]\n",
    "      \n",
    "q1 = df['trip_distance'].quantile(q=0.001)\n",
    "q2 = df['trip_distance'].quantile(q=0.999)\n",
    "df = df[(df['trip_distance'] < q2) & (df['trip_distance'] > q1 )]"
   ]
  },
  {
   "cell_type": "code",
   "execution_count": 44,
   "metadata": {
    "collapsed": false
   },
   "outputs": [
    {
     "data": {
      "text/plain": [
       "array([[<matplotlib.axes._subplots.AxesSubplot object at 0x000001C123AF66D8>,\n",
       "        <matplotlib.axes._subplots.AxesSubplot object at 0x000001C1275F9B70>]], dtype=object)"
      ]
     },
     "execution_count": 44,
     "metadata": {},
     "output_type": "execute_result"
    },
    {
     "data": {
      "image/png": "[encoded data removed]",
      "text/plain": [
       "<matplotlib.figure.Figure at 0x1c11fce1ef0>"
      ]
     },
     "metadata": {},
     "output_type": "display_data"
    }
   ],
   "source": [
    "df.hist(column=['trip_time_in_secs','trip_distance'], bins=100, figsize=(10,10))"
   ]
  },
  {
   "cell_type": "markdown",
   "metadata": {},
   "source": [
    "On procède de même avec les variables relatives au tarif de la course : `fare_amount`, `tip_amount`, `tolls_amount`, `total_amount`."
   ]
  },
  {
   "cell_type": "code",
   "execution_count": 45,
   "metadata": {
    "collapsed": false,
    "scrolled": false
   },
   "outputs": [
    {
     "data": {
      "text/html": [
       "<div>\n",
       "<table border=\"1\" class=\"dataframe\">\n",
       "  <thead>\n",
       "    <tr style=\"text-align: right;\">\n",
       "      <th></th>\n",
       "      <th>fare_amount</th>\n",
       "      <th>tip_amount</th>\n",
       "      <th>tolls_amount</th>\n",
       "      <th>total_amount</th>\n",
       "    </tr>\n",
       "  </thead>\n",
       "  <tbody>\n",
       "    <tr>\n",
       "      <th>count</th>\n",
       "      <td>857868.000000</td>\n",
       "      <td>857868.000000</td>\n",
       "      <td>857868.000000</td>\n",
       "      <td>857868.000000</td>\n",
       "    </tr>\n",
       "    <tr>\n",
       "      <th>mean</th>\n",
       "      <td>12.171089</td>\n",
       "      <td>1.347701</td>\n",
       "      <td>0.237525</td>\n",
       "      <td>14.576754</td>\n",
       "    </tr>\n",
       "    <tr>\n",
       "      <th>std</th>\n",
       "      <td>9.333800</td>\n",
       "      <td>2.079283</td>\n",
       "      <td>1.153394</td>\n",
       "      <td>11.290599</td>\n",
       "    </tr>\n",
       "    <tr>\n",
       "      <th>min</th>\n",
       "      <td>-73.500000</td>\n",
       "      <td>0.000000</td>\n",
       "      <td>0.000000</td>\n",
       "      <td>-74.000000</td>\n",
       "    </tr>\n",
       "    <tr>\n",
       "      <th>25%</th>\n",
       "      <td>6.500000</td>\n",
       "      <td>0.000000</td>\n",
       "      <td>0.000000</td>\n",
       "      <td>8.000000</td>\n",
       "    </tr>\n",
       "    <tr>\n",
       "      <th>50%</th>\n",
       "      <td>9.500000</td>\n",
       "      <td>1.000000</td>\n",
       "      <td>0.000000</td>\n",
       "      <td>11.000000</td>\n",
       "    </tr>\n",
       "    <tr>\n",
       "      <th>75%</th>\n",
       "      <td>14.000000</td>\n",
       "      <td>2.000000</td>\n",
       "      <td>0.000000</td>\n",
       "      <td>16.500000</td>\n",
       "    </tr>\n",
       "    <tr>\n",
       "      <th>max</th>\n",
       "      <td>247.000000</td>\n",
       "      <td>200.000000</td>\n",
       "      <td>23.350000</td>\n",
       "      <td>278.250000</td>\n",
       "    </tr>\n",
       "  </tbody>\n",
       "</table>\n",
       "</div>"
      ],
      "text/plain": [
       "         fare_amount     tip_amount   tolls_amount   total_amount\n",
       "count  857868.000000  857868.000000  857868.000000  857868.000000\n",
       "mean       12.171089       1.347701       0.237525      14.576754\n",
       "std         9.333800       2.079283       1.153394      11.290599\n",
       "min       -73.500000       0.000000       0.000000     -74.000000\n",
       "25%         6.500000       0.000000       0.000000       8.000000\n",
       "50%         9.500000       1.000000       0.000000      11.000000\n",
       "75%        14.000000       2.000000       0.000000      16.500000\n",
       "max       247.000000     200.000000      23.350000     278.250000"
      ]
     },
     "execution_count": 45,
     "metadata": {},
     "output_type": "execute_result"
    }
   ],
   "source": [
    "df[['fare_amount', 'tip_amount', 'tolls_amount', 'total_amount']].describe()"
   ]
  },
  {
   "cell_type": "markdown",
   "metadata": {},
   "source": [
    "On remarque déjà que la colonne `fare_amount` et `total_amount` possèdent des valeurs négatives.\n",
    "De plus, les valeurs extrêmes, bien que probables (un pourboire de 200$ !), sont peut être un peu trop élevées. \n",
    "Affichons les histogrammes correspondants pour en être sûr."
   ]
  },
  {
   "cell_type": "code",
   "execution_count": 46,
   "metadata": {
    "collapsed": false
   },
   "outputs": [
    {
     "data": {
      "text/plain": [
       "array([[<matplotlib.axes._subplots.AxesSubplot object at 0x000001C129D10FD0>,\n",
       "        <matplotlib.axes._subplots.AxesSubplot object at 0x000001C11A25F208>],\n",
       "       [<matplotlib.axes._subplots.AxesSubplot object at 0x000001C119DFDB00>,\n",
       "        <matplotlib.axes._subplots.AxesSubplot object at 0x000001C119E32EB8>]], dtype=object)"
      ]
     },
     "execution_count": 46,
     "metadata": {},
     "output_type": "execute_result"
    },
    {
     "data": {
      "image/png": "[encoded data removed]",
      "text/plain": [
       "<matplotlib.figure.Figure at 0x1c12b871198>"
      ]
     },
     "metadata": {},
     "output_type": "display_data"
    }
   ],
   "source": [
    "df.hist(column=['fare_amount', 'tip_amount', 'tolls_amount', 'total_amount'])"
   ]
  },
  {
   "cell_type": "markdown",
   "metadata": {},
   "source": [
    "La variable `total_amount` étant la somme des trois précédente (aux taxes et surcharges près), on va filtrer sur celle-ci et sur `fare_amount` (pour être sûr de ne pas considérer des courses de valeur nulle), en utilisant les quantiles 0.001 et 0.999 comme précédement :"
   ]
  },
  {
   "cell_type": "code",
   "execution_count": 47,
   "metadata": {
    "collapsed": true
   },
   "outputs": [],
   "source": [
    "q1_tot = df['total_amount'].quantile(q=0.001)\n",
    "q2_tot = df['total_amount'].quantile(q=0.999)\n",
    "\n",
    "q1_fare = df['fare_amount'].quantile(q=0.001)\n",
    "q2_fare = df['fare_amount'].quantile(q=0.999)\n",
    "\n",
    "df = df[(df['total_amount'] < q2_tot) & (df['total_amount'] > q1_tot )]\n",
    "df = df[(df['fare_amount'] < q2_fare) & (df['fare_amount'] > q1_fare )]"
   ]
  },
  {
   "cell_type": "code",
   "execution_count": 48,
   "metadata": {
    "collapsed": false
   },
   "outputs": [
    {
     "data": {
      "text/plain": [
       "array([[<matplotlib.axes._subplots.AxesSubplot object at 0x000001C119F03898>,\n",
       "        <matplotlib.axes._subplots.AxesSubplot object at 0x000001C119FD9898>],\n",
       "       [<matplotlib.axes._subplots.AxesSubplot object at 0x000001C11A0282B0>,\n",
       "        <matplotlib.axes._subplots.AxesSubplot object at 0x000001C11A064048>]], dtype=object)"
      ]
     },
     "execution_count": 48,
     "metadata": {},
     "output_type": "execute_result"
    },
    {
     "data": {
      "image/png": "[encoded data removed]",
      "text/plain": [
       "<matplotlib.figure.Figure at 0x1c1183f0a58>"
      ]
     },
     "metadata": {},
     "output_type": "display_data"
    }
   ],
   "source": [
    "df.hist(column=['fare_amount', 'tip_amount', 'tolls_amount', 'total_amount'])"
   ]
  },
  {
   "cell_type": "markdown",
   "metadata": {},
   "source": [
    "Ces distributions sont davantage acceptables."
   ]
  },
  {
   "cell_type": "markdown",
   "metadata": {},
   "source": [
    "On vérifie qu'il n'existe plus de courses \"nulles\" (i.e. avec un `fare_amount` nul) : "
   ]
  },
  {
   "cell_type": "code",
   "execution_count": 49,
   "metadata": {
    "collapsed": false
   },
   "outputs": [
    {
     "data": {
      "text/html": [
       "<div>\n",
       "<table border=\"1\" class=\"dataframe\">\n",
       "  <thead>\n",
       "    <tr style=\"text-align: right;\">\n",
       "      <th></th>\n",
       "      <th>fare_amount</th>\n",
       "      <th>tip_amount</th>\n",
       "      <th>tolls_amount</th>\n",
       "      <th>total_amount</th>\n",
       "    </tr>\n",
       "  </thead>\n",
       "  <tbody>\n",
       "    <tr>\n",
       "      <th>count</th>\n",
       "      <td>854443.000000</td>\n",
       "      <td>854443.000000</td>\n",
       "      <td>854443.000000</td>\n",
       "      <td>854443.000000</td>\n",
       "    </tr>\n",
       "    <tr>\n",
       "      <th>mean</th>\n",
       "      <td>12.115621</td>\n",
       "      <td>1.337566</td>\n",
       "      <td>0.226860</td>\n",
       "      <td>14.501715</td>\n",
       "    </tr>\n",
       "    <tr>\n",
       "      <th>std</th>\n",
       "      <td>9.041614</td>\n",
       "      <td>1.993140</td>\n",
       "      <td>1.094811</td>\n",
       "      <td>10.897330</td>\n",
       "    </tr>\n",
       "    <tr>\n",
       "      <th>min</th>\n",
       "      <td>3.000000</td>\n",
       "      <td>0.000000</td>\n",
       "      <td>0.000000</td>\n",
       "      <td>3.600000</td>\n",
       "    </tr>\n",
       "    <tr>\n",
       "      <th>25%</th>\n",
       "      <td>6.500000</td>\n",
       "      <td>0.000000</td>\n",
       "      <td>0.000000</td>\n",
       "      <td>8.000000</td>\n",
       "    </tr>\n",
       "    <tr>\n",
       "      <th>50%</th>\n",
       "      <td>9.500000</td>\n",
       "      <td>1.000000</td>\n",
       "      <td>0.000000</td>\n",
       "      <td>11.000000</td>\n",
       "    </tr>\n",
       "    <tr>\n",
       "      <th>75%</th>\n",
       "      <td>14.000000</td>\n",
       "      <td>2.000000</td>\n",
       "      <td>0.000000</td>\n",
       "      <td>16.500000</td>\n",
       "    </tr>\n",
       "    <tr>\n",
       "      <th>max</th>\n",
       "      <td>66.000000</td>\n",
       "      <td>70.000000</td>\n",
       "      <td>21.830000</td>\n",
       "      <td>85.000000</td>\n",
       "    </tr>\n",
       "  </tbody>\n",
       "</table>\n",
       "</div>"
      ],
      "text/plain": [
       "         fare_amount     tip_amount   tolls_amount   total_amount\n",
       "count  854443.000000  854443.000000  854443.000000  854443.000000\n",
       "mean       12.115621       1.337566       0.226860      14.501715\n",
       "std         9.041614       1.993140       1.094811      10.897330\n",
       "min         3.000000       0.000000       0.000000       3.600000\n",
       "25%         6.500000       0.000000       0.000000       8.000000\n",
       "50%         9.500000       1.000000       0.000000      11.000000\n",
       "75%        14.000000       2.000000       0.000000      16.500000\n",
       "max        66.000000      70.000000      21.830000      85.000000"
      ]
     },
     "execution_count": 49,
     "metadata": {},
     "output_type": "execute_result"
    }
   ],
   "source": [
    "df[['fare_amount', 'tip_amount', 'tolls_amount', 'total_amount']].describe()"
   ]
  },
  {
   "cell_type": "markdown",
   "metadata": {},
   "source": [
    "Enfin, on fait de même avec les variables de position. Pour celles-ci, il faut prendre des quantiles un peu plus stricts car elles comportent davantage de valeurs aberrantes :"
   ]
  },
  {
   "cell_type": "code",
   "execution_count": 50,
   "metadata": {
    "collapsed": true
   },
   "outputs": [],
   "source": [
    "q1 = df['pickup_longitude'].quantile(q=0.02)\n",
    "q2 = df['pickup_longitude'].quantile(q=0.98)\n",
    "df = df[(df['pickup_longitude'] < q2) & (df['pickup_longitude'] > q1 )]\n",
    "      \n",
    "q1 = df['pickup_lattitude'].quantile(q=0.02)\n",
    "q2 = df['pickup_lattitude'].quantile(q=0.98)\n",
    "df = df[(df['pickup_lattitude'] < q2) & (df['pickup_lattitude'] > q1 )]\n",
    "\n",
    "q1 = df['dropoff_longitude'].quantile(q=0.02)\n",
    "q2 = df['dropoff_longitude'].quantile(q=0.98)\n",
    "df = df[(df['dropoff_longitude'] < q2) & (df['dropoff_longitude'] > q1 )]\n",
    "      \n",
    "q1 = df['dropoff_lattitude'].quantile(q=0.02)\n",
    "q2 = df['dropoff_lattitude'].quantile(q=0.98)\n",
    "df = df[(df['dropoff_lattitude'] < q2) & (df['dropoff_lattitude'] > q1 )]"
   ]
  },
  {
   "cell_type": "code",
   "execution_count": 51,
   "metadata": {
    "collapsed": false
   },
   "outputs": [
    {
     "data": {
      "text/html": [
       "<div>\n",
       "<table border=\"1\" class=\"dataframe\">\n",
       "  <thead>\n",
       "    <tr style=\"text-align: right;\">\n",
       "      <th></th>\n",
       "      <th>pickup_longitude</th>\n",
       "      <th>pickup_lattitude</th>\n",
       "      <th>dropoff_longitude</th>\n",
       "      <th>dropoff_lattitude</th>\n",
       "    </tr>\n",
       "  </thead>\n",
       "  <tbody>\n",
       "    <tr>\n",
       "      <th>count</th>\n",
       "      <td>725673.000000</td>\n",
       "      <td>725673.000000</td>\n",
       "      <td>725673.000000</td>\n",
       "      <td>725673.000000</td>\n",
       "    </tr>\n",
       "    <tr>\n",
       "      <th>mean</th>\n",
       "      <td>-73.978524</td>\n",
       "      <td>40.752709</td>\n",
       "      <td>-73.978193</td>\n",
       "      <td>40.752967</td>\n",
       "    </tr>\n",
       "    <tr>\n",
       "      <th>std</th>\n",
       "      <td>0.023007</td>\n",
       "      <td>0.020255</td>\n",
       "      <td>0.020829</td>\n",
       "      <td>0.021592</td>\n",
       "    </tr>\n",
       "    <tr>\n",
       "      <th>min</th>\n",
       "      <td>-74.010193</td>\n",
       "      <td>40.684475</td>\n",
       "      <td>-74.011116</td>\n",
       "      <td>40.689156</td>\n",
       "    </tr>\n",
       "    <tr>\n",
       "      <th>25%</th>\n",
       "      <td>-73.992020</td>\n",
       "      <td>40.738960</td>\n",
       "      <td>-73.991432</td>\n",
       "      <td>40.738949</td>\n",
       "    </tr>\n",
       "    <tr>\n",
       "      <th>50%</th>\n",
       "      <td>-73.982262</td>\n",
       "      <td>40.754093</td>\n",
       "      <td>-73.981331</td>\n",
       "      <td>40.754406</td>\n",
       "    </tr>\n",
       "    <tr>\n",
       "      <th>75%</th>\n",
       "      <td>-73.969963</td>\n",
       "      <td>40.767113</td>\n",
       "      <td>-73.968506</td>\n",
       "      <td>40.767246</td>\n",
       "    </tr>\n",
       "    <tr>\n",
       "      <th>max</th>\n",
       "      <td>-73.792603</td>\n",
       "      <td>40.799881</td>\n",
       "      <td>-73.870461</td>\n",
       "      <td>40.806084</td>\n",
       "    </tr>\n",
       "  </tbody>\n",
       "</table>\n",
       "</div>"
      ],
      "text/plain": [
       "       pickup_longitude  pickup_lattitude  dropoff_longitude  \\\n",
       "count     725673.000000     725673.000000      725673.000000   \n",
       "mean         -73.978524         40.752709         -73.978193   \n",
       "std            0.023007          0.020255           0.020829   \n",
       "min          -74.010193         40.684475         -74.011116   \n",
       "25%          -73.992020         40.738960         -73.991432   \n",
       "50%          -73.982262         40.754093         -73.981331   \n",
       "75%          -73.969963         40.767113         -73.968506   \n",
       "max          -73.792603         40.799881         -73.870461   \n",
       "\n",
       "       dropoff_lattitude  \n",
       "count      725673.000000  \n",
       "mean           40.752967  \n",
       "std             0.021592  \n",
       "min            40.689156  \n",
       "25%            40.738949  \n",
       "50%            40.754406  \n",
       "75%            40.767246  \n",
       "max            40.806084  "
      ]
     },
     "execution_count": 51,
     "metadata": {},
     "output_type": "execute_result"
    }
   ],
   "source": [
    "df[['pickup_longitude', 'pickup_lattitude', 'dropoff_longitude', 'dropoff_lattitude']].describe()"
   ]
  },
  {
   "cell_type": "markdown",
   "metadata": {},
   "source": [
    "Voici donc le dataframe de base qui sera utilisé dans les prochains notebooks. \n",
    "**Remarque :** une implémentation de toutes ces étapes est écrite dans un fichier .py à part, qui sera appelé en début de chacun des notebooks suivants.\n",
    "\n",
    "On note qu'on est passé de 865 886 courses à 725673, soit une perte de 140213 entrées, ie. une suppression de 16% des données. Cette valeur assez importante est du au grand nombre de valeur abérrante des variables de position (elles comptent pour 15% des données supprimées !)"
   ]
  },
  {
   "cell_type": "code",
   "execution_count": 57,
   "metadata": {
    "collapsed": false
   },
   "outputs": [
    {
     "data": {
      "text/plain": [
       "(725673, 20)"
      ]
     },
     "execution_count": 57,
     "metadata": {},
     "output_type": "execute_result"
    }
   ],
   "source": [
    "df.shape"
   ]
  },
  {
   "cell_type": "code",
   "execution_count": 56,
   "metadata": {
    "collapsed": false
   },
   "outputs": [
    {
     "data": {
      "text/plain": [
       "16.193009241401292"
      ]
     },
     "execution_count": 56,
     "metadata": {},
     "output_type": "execute_result"
    }
   ],
   "source": [
    "100*(865886-725673)/865886"
   ]
  },
  {
   "cell_type": "markdown",
   "metadata": {},
   "source": [
    "Pour finir, on modifie les données portant sur la date et l'heure des trajets. En effet, la connaissance de l'heure exacte à la seconde près n'a en réalité que peu d'importance et va complexifier l'analyse. On va donc extraire de cette colonne (à savoir `pickup_datetime`) uniquement l'information qui semble pertinente : \n",
    "- la trajet a t-il eu lieu le jour ou la nuit ? On définit jour = (heure >= 8 a.m. et heure <= 8 p.m)\n",
    "- quel jour de la semaine le trajet a t-il eu lieu ? (lundi, mardi, etc.)"
   ]
  },
  {
   "cell_type": "code",
   "execution_count": 54,
   "metadata": {
    "collapsed": false
   },
   "outputs": [],
   "source": [
    "def arrondi_nuit_jour(dt): \n",
    "    if(dt.hour >= 8 and dt.hour <= 20):\n",
    "        return 'jour'\n",
    "    return 'nuit'\n",
    "    \n",
    "def jour_semaine(dt):\n",
    "    return dt.strftime('%A')\n",
    "\n",
    "# On créé les nouvelles colonnes correspondantes\n",
    "df['nuit_jour'] = df['pickup_datetime'].apply(arrondi_nuit_jour)\n",
    "df['jour_semaine'] = df['pickup_datetime'].apply(jour_semaine)"
   ]
  },
  {
   "cell_type": "markdown",
   "metadata": {},
   "source": [
    "Finalement, nous affichons `df` afin de contrôler qu'aucun nouveau problème n'est survenu :"
   ]
  },
  {
   "cell_type": "code",
   "execution_count": 55,
   "metadata": {
    "collapsed": false
   },
   "outputs": [
    {
     "data": {
      "text/html": [
       "<div>\n",
       "<table border=\"1\" class=\"dataframe\">\n",
       "  <thead>\n",
       "    <tr style=\"text-align: right;\">\n",
       "      <th></th>\n",
       "      <th>medallion</th>\n",
       "      <th>hack_license</th>\n",
       "      <th>vendor_id</th>\n",
       "      <th>pickup_datetime</th>\n",
       "      <th>payment_type</th>\n",
       "      <th>fare_amount</th>\n",
       "      <th>surcharge</th>\n",
       "      <th>tip_amount</th>\n",
       "      <th>tolls_amount</th>\n",
       "      <th>total_amount</th>\n",
       "      <th>dropoff_datetime</th>\n",
       "      <th>passenger_count</th>\n",
       "      <th>trip_time_in_secs</th>\n",
       "      <th>trip_distance</th>\n",
       "      <th>pickup_longitude</th>\n",
       "      <th>pickup_lattitude</th>\n",
       "      <th>dropoff_longitude</th>\n",
       "      <th>dropoff_lattitude</th>\n",
       "      <th>nuit_jour</th>\n",
       "      <th>jour_semaine</th>\n",
       "    </tr>\n",
       "  </thead>\n",
       "  <tbody>\n",
       "    <tr>\n",
       "      <th>0</th>\n",
       "      <td>D5367E940A20B9D2550BF7CF7AE01681</td>\n",
       "      <td>5B34A2589D1D2106FC0C47564A4833F0</td>\n",
       "      <td>CMT</td>\n",
       "      <td>2013-01-08 12:50:22</td>\n",
       "      <td>CSH</td>\n",
       "      <td>7.5</td>\n",
       "      <td>0.0</td>\n",
       "      <td>0.0</td>\n",
       "      <td>0.0</td>\n",
       "      <td>8.0</td>\n",
       "      <td>2013-01-08 12:58:39</td>\n",
       "      <td>2</td>\n",
       "      <td>496</td>\n",
       "      <td>1.10</td>\n",
       "      <td>-73.952026</td>\n",
       "      <td>40.766479</td>\n",
       "      <td>-73.966827</td>\n",
       "      <td>40.759968</td>\n",
       "      <td>jour</td>\n",
       "      <td>Tuesday</td>\n",
       "    </tr>\n",
       "    <tr>\n",
       "      <th>1</th>\n",
       "      <td>69F42CD1BA72F0F090E85F299C7B6301</td>\n",
       "      <td>65BABDDBC94F4C1AA996FA693E4D4F57</td>\n",
       "      <td>VTS</td>\n",
       "      <td>2013-01-13 11:09:00</td>\n",
       "      <td>CRD</td>\n",
       "      <td>5.0</td>\n",
       "      <td>0.0</td>\n",
       "      <td>1.0</td>\n",
       "      <td>0.0</td>\n",
       "      <td>6.5</td>\n",
       "      <td>2013-01-13 11:13:00</td>\n",
       "      <td>1</td>\n",
       "      <td>240</td>\n",
       "      <td>0.57</td>\n",
       "      <td>-73.999786</td>\n",
       "      <td>40.728497</td>\n",
       "      <td>-73.994179</td>\n",
       "      <td>40.724926</td>\n",
       "      <td>jour</td>\n",
       "      <td>Sunday</td>\n",
       "    </tr>\n",
       "    <tr>\n",
       "      <th>2</th>\n",
       "      <td>F0C1205FC27DF89D8C9F8DC2F324E36C</td>\n",
       "      <td>FAA39BEB7D7159DCB3DCAC56EED0CEA7</td>\n",
       "      <td>VTS</td>\n",
       "      <td>2013-01-13 10:28:00</td>\n",
       "      <td>CSH</td>\n",
       "      <td>4.5</td>\n",
       "      <td>0.0</td>\n",
       "      <td>0.0</td>\n",
       "      <td>0.0</td>\n",
       "      <td>5.0</td>\n",
       "      <td>2013-01-13 10:31:00</td>\n",
       "      <td>5</td>\n",
       "      <td>180</td>\n",
       "      <td>0.61</td>\n",
       "      <td>-73.978935</td>\n",
       "      <td>40.784966</td>\n",
       "      <td>-73.971329</td>\n",
       "      <td>40.786163</td>\n",
       "      <td>jour</td>\n",
       "      <td>Sunday</td>\n",
       "    </tr>\n",
       "    <tr>\n",
       "      <th>3</th>\n",
       "      <td>3112FC4E5C14054B8A5DB00037572C70</td>\n",
       "      <td>9F959826431402B410E0B8FA23160AFE</td>\n",
       "      <td>VTS</td>\n",
       "      <td>2013-01-13 10:32:00</td>\n",
       "      <td>CSH</td>\n",
       "      <td>5.5</td>\n",
       "      <td>0.0</td>\n",
       "      <td>0.0</td>\n",
       "      <td>0.0</td>\n",
       "      <td>6.0</td>\n",
       "      <td>2013-01-13 10:35:00</td>\n",
       "      <td>5</td>\n",
       "      <td>180</td>\n",
       "      <td>1.28</td>\n",
       "      <td>-73.960541</td>\n",
       "      <td>40.762005</td>\n",
       "      <td>-73.950432</td>\n",
       "      <td>40.776211</td>\n",
       "      <td>jour</td>\n",
       "      <td>Sunday</td>\n",
       "    </tr>\n",
       "    <tr>\n",
       "      <th>5</th>\n",
       "      <td>C852FCF8AFF847126AF8A109DE44BB1F</td>\n",
       "      <td>DFF8F13106E8C8C3773DE379678334E3</td>\n",
       "      <td>VTS</td>\n",
       "      <td>2013-01-13 06:28:00</td>\n",
       "      <td>CSH</td>\n",
       "      <td>8.0</td>\n",
       "      <td>0.0</td>\n",
       "      <td>0.0</td>\n",
       "      <td>0.0</td>\n",
       "      <td>8.5</td>\n",
       "      <td>2013-01-13 06:36:00</td>\n",
       "      <td>1</td>\n",
       "      <td>480</td>\n",
       "      <td>1.75</td>\n",
       "      <td>-73.986214</td>\n",
       "      <td>40.726437</td>\n",
       "      <td>-73.978065</td>\n",
       "      <td>40.745602</td>\n",
       "      <td>nuit</td>\n",
       "      <td>Sunday</td>\n",
       "    </tr>\n",
       "  </tbody>\n",
       "</table>\n",
       "</div>"
      ],
      "text/plain": [
       "                          medallion                      hack_license  \\\n",
       "0  D5367E940A20B9D2550BF7CF7AE01681  5B34A2589D1D2106FC0C47564A4833F0   \n",
       "1  69F42CD1BA72F0F090E85F299C7B6301  65BABDDBC94F4C1AA996FA693E4D4F57   \n",
       "2  F0C1205FC27DF89D8C9F8DC2F324E36C  FAA39BEB7D7159DCB3DCAC56EED0CEA7   \n",
       "3  3112FC4E5C14054B8A5DB00037572C70  9F959826431402B410E0B8FA23160AFE   \n",
       "5  C852FCF8AFF847126AF8A109DE44BB1F  DFF8F13106E8C8C3773DE379678334E3   \n",
       "\n",
       "  vendor_id     pickup_datetime payment_type  fare_amount  surcharge  \\\n",
       "0       CMT 2013-01-08 12:50:22          CSH          7.5        0.0   \n",
       "1       VTS 2013-01-13 11:09:00          CRD          5.0        0.0   \n",
       "2       VTS 2013-01-13 10:28:00          CSH          4.5        0.0   \n",
       "3       VTS 2013-01-13 10:32:00          CSH          5.5        0.0   \n",
       "5       VTS 2013-01-13 06:28:00          CSH          8.0        0.0   \n",
       "\n",
       "   tip_amount  tolls_amount  total_amount    dropoff_datetime  \\\n",
       "0         0.0           0.0           8.0 2013-01-08 12:58:39   \n",
       "1         1.0           0.0           6.5 2013-01-13 11:13:00   \n",
       "2         0.0           0.0           5.0 2013-01-13 10:31:00   \n",
       "3         0.0           0.0           6.0 2013-01-13 10:35:00   \n",
       "5         0.0           0.0           8.5 2013-01-13 06:36:00   \n",
       "\n",
       "   passenger_count  trip_time_in_secs  trip_distance  pickup_longitude  \\\n",
       "0                2                496           1.10        -73.952026   \n",
       "1                1                240           0.57        -73.999786   \n",
       "2                5                180           0.61        -73.978935   \n",
       "3                5                180           1.28        -73.960541   \n",
       "5                1                480           1.75        -73.986214   \n",
       "\n",
       "   pickup_lattitude  dropoff_longitude  dropoff_lattitude nuit_jour  \\\n",
       "0         40.766479         -73.966827          40.759968      jour   \n",
       "1         40.728497         -73.994179          40.724926      jour   \n",
       "2         40.784966         -73.971329          40.786163      jour   \n",
       "3         40.762005         -73.950432          40.776211      jour   \n",
       "5         40.726437         -73.978065          40.745602      nuit   \n",
       "\n",
       "  jour_semaine  \n",
       "0      Tuesday  \n",
       "1       Sunday  \n",
       "2       Sunday  \n",
       "3       Sunday  \n",
       "5       Sunday  "
      ]
     },
     "execution_count": 55,
     "metadata": {},
     "output_type": "execute_result"
    }
   ],
   "source": [
    "df.head()"
   ]
  }
 ],
 "metadata": {
  "anaconda-cloud": {},
  "kernelspec": {
   "display_name": "Python [default]",
   "language": "python",
   "name": "python3"
  },
  "language_info": {
   "codemirror_mode": {
    "name": "ipython",
    "version": 3
   },
   "file_extension": ".py",
   "mimetype": "text/x-python",
   "name": "python",
   "nbconvert_exporter": "python",
   "pygments_lexer": "ipython3",
   "version": "3.5.2"
  }
 },
 "nbformat": 4,
 "nbformat_minor": 1
}
