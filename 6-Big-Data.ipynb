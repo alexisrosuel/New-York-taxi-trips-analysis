{
 "cells": [
  {
   "cell_type": "markdown",
   "metadata": {},
   "source": [
    "# 6 - Big Data"
   ]
  },
  {
   "cell_type": "markdown",
   "metadata": {},
   "source": [
    "Dans ce notebook, nous allons utiliser cytoolz pour traiter les données de manière itérative.\n",
    "L'objectif est de calculer quelques statistiques descriptives simples."
   ]
  },
  {
   "cell_type": "code",
   "execution_count": 1,
   "metadata": {
    "collapsed": true
   },
   "outputs": [],
   "source": [
    "import cytoolz"
   ]
  },
  {
   "cell_type": "markdown",
   "metadata": {},
   "source": [
    "On va travailler avec le jeu de données du mois de janvier complet, afin de travailler sur des **volumétries plus importantes, mais néanmoins calculables assez rapidement**.\n",
    "Pour information, trip_data_1 (données générales sur le trajet du mois de janvier) fait quasiment 2.4 Go et trip_fare_1 (données sur les tarifs des courses) fait quasiment 1.5 Go.\n",
    "\n",
    "D'après wikipedia, il y avait 13 605 medallion et 51 398 taximen en 2014 à NYC. Vérifions ces valeurs (nos données datent de 2013, on risque donc de trouver des valeurs légèrement différentes)."
   ]
  },
  {
   "cell_type": "markdown",
   "metadata": {},
   "source": [
    "### Combien de taximen différents ont fait au moins une course en janvier ?\n",
    "Commençons par le nombre de taximen différents qui on fait au moins une course :"
   ]
  },
  {
   "cell_type": "code",
   "execution_count": 2,
   "metadata": {
    "collapsed": false
   },
   "outputs": [],
   "source": [
    "file = open(\"C:\\\\Users\\\\Alexis\\\\Downloads\\\\projet\\\\donnees\\\\trip_fare_1.csv\", 'r')\n",
    "next(file) # on ignore la première ligne qui contient les intitulés des variables\n",
    "\n",
    "ligne_list = cytoolz.map(lambda s: str.split(s,','),file)\n",
    "hack_license = cytoolz.pluck(1,ligne_list) # la seconde colonne correspond à la variable 'hack_license' dans notre jeu de données\n",
    "hack_license_unique = cytoolz.unique(hack_license)\n",
    "nb_license = cytoolz.count(hack_license_unique)"
   ]
  },
  {
   "cell_type": "code",
   "execution_count": 3,
   "metadata": {
    "collapsed": false
   },
   "outputs": [
    {
     "data": {
      "text/plain": [
       "32224"
      ]
     },
     "execution_count": 3,
     "metadata": {},
     "output_type": "execute_result"
    }
   ],
   "source": [
    "nb_license"
   ]
  },
  {
   "cell_type": "markdown",
   "metadata": {},
   "source": [
    "C'est sensiblement moins que la valeur prévue. Cependant, on peut imaginer qu'une partie était en congés, en janvier par exemple."
   ]
  },
  {
   "cell_type": "markdown",
   "metadata": {},
   "source": [
    "### Quel est le nombre total de medallions\n",
    "Poursuivons et calculons maintenant le nombre total de medallions :"
   ]
  },
  {
   "cell_type": "code",
   "execution_count": 5,
   "metadata": {
    "collapsed": true
   },
   "outputs": [],
   "source": [
    "# on remet le curseur au début du fichier\n",
    "file = open(\"C:\\\\Users\\\\Alexis\\\\Downloads\\\\projet\\\\donnees\\\\trip_fare_1.csv\", 'r')\n",
    "next(file) # on ignore la première ligne qui contient les intitulés des variables\n",
    "\n",
    "ligne_list = cytoolz.map(lambda s: str.split(s,','),file)\n",
    "medallion = cytoolz.pluck(0,ligne_list) # la première colonne correspond à la variable 'medallion' dans notre jeu de données\n",
    "medallion_unique = cytoolz.unique(medallion)\n",
    "nb_medallion = cytoolz.count(medallion_unique)"
   ]
  },
  {
   "cell_type": "code",
   "execution_count": 6,
   "metadata": {
    "collapsed": false
   },
   "outputs": [
    {
     "data": {
      "text/plain": [
       "13426"
      ]
     },
     "execution_count": 6,
     "metadata": {},
     "output_type": "execute_result"
    }
   ],
   "source": [
    "nb_medallion"
   ]
  },
  {
   "cell_type": "markdown",
   "metadata": {},
   "source": [
    "C'est approximativement la valeur attendue."
   ]
  },
  {
   "cell_type": "markdown",
   "metadata": {},
   "source": [
    "### Quel est le prix moyen d'une course de taxi à New-York en 2013 ?\n",
    "Enfin, calculons la somme totale des tarifs des courses, ainsi que la moyenne (ie. le prix moyen d'une course de taxi à NYC) :"
   ]
  },
  {
   "cell_type": "code",
   "execution_count": 7,
   "metadata": {
    "collapsed": false
   },
   "outputs": [
    {
     "name": "stdout",
     "output_type": "stream",
     "text": [
      "total des courses : 206177887.41083822\n",
      "nombre de courses : 14776615\n",
      "tarif moyen par course : 13.95298499763567\n"
     ]
    }
   ],
   "source": [
    "# on remet le curseur au début du fichier\n",
    "file = open(\"C:\\\\Users\\\\Alexis\\\\Downloads\\\\projet\\\\donnees\\\\trip_fare_1.csv\", 'r')\n",
    "next(file) # on ignore la première ligne qui contient les intitulés des variables\n",
    "\n",
    "ligne_list = cytoolz.map(lambda s: str.split(s,','),file)\n",
    "amount = cytoolz.pluck(10,ligne_list) # la dixième colonne correspond à la variable 'total_amount' dans notre jeu de données\n",
    "amount_int = cytoolz.map(lambda v: float(v), amount)\n",
    "\n",
    "from operator import add\n",
    "total = cytoolz.reduce(add, amount_int)\n",
    "\n",
    "# ensuite pour avoir la moyenne on compte le nombre de courses\n",
    "# on remet le curseur au début du fichier\n",
    "file = open(\"C:\\\\Users\\\\Alexis\\\\Downloads\\\\projet\\\\donnees\\\\trip_fare_1.csv\", 'r')\n",
    "next(file) # on ignore la première ligne qui contient les intitulés des variables\n",
    "nb_lignes = cytoolz.count(file)\n",
    "\n",
    "print('total des courses : ' + str(total))\n",
    "print('nombre de courses : ' + str(nb_lignes))\n",
    "print('tarif moyen par course : ' + str(total/nb_lignes))"
   ]
  }
 ],
 "metadata": {
  "anaconda-cloud": {},
  "kernelspec": {
   "display_name": "Python [default]",
   "language": "python",
   "name": "python3"
  },
  "language_info": {
   "codemirror_mode": {
    "name": "ipython",
    "version": 3
   },
   "file_extension": ".py",
   "mimetype": "text/x-python",
   "name": "python",
   "nbconvert_exporter": "python",
   "pygments_lexer": "ipython3",
   "version": "3.5.2"
  }
 },
 "nbformat": 4,
 "nbformat_minor": 1
}
